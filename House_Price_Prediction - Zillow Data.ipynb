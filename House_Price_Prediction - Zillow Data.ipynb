{
  "nbformat": 4,
  "nbformat_minor": 0,
  "metadata": {
    "colab": {
      "provenance": [],
      "toc_visible": true,
      "machine_shape": "hm",
      "include_colab_link": true
    },
    "kernelspec": {
      "name": "python3",
      "display_name": "Python 3"
    }
  },
  "cells": [
    {
      "cell_type": "markdown",
      "metadata": {
        "id": "view-in-github",
        "colab_type": "text"
      },
      "source": [
        "<a href=\"https://colab.research.google.com/github/AmirhosseinSalamirad/House-Price-Valuation/blob/main/House_Price_Prediction%20-%20Zillow%20Data.ipynb\" target=\"_parent\"><img src=\"https://colab.research.google.com/assets/colab-badge.svg\" alt=\"Open In Colab\"/></a>"
      ]
    },
    {
      "cell_type": "code",
      "metadata": {
        "id": "ZnYgxYmMZmkm"
      },
      "source": [
        "import json, re, os\n",
        "import pandas as pd\n",
        "import numpy as np\n",
        "from sklearn.model_selection import train_test_split, cross_val_score\n",
        "from sklearn import neighbors\n",
        "from sklearn.tree import DecisionTreeRegressor\n",
        "from sklearn.svm import SVR\n",
        "from sklearn.metrics import mean_squared_error, mean_absolute_error\n",
        "from sklearn.pipeline import Pipeline\n",
        "from sklearn.preprocessing import StandardScaler, OneHotEncoder, label_binarize\n",
        "from sklearn.impute import SimpleImputer\n",
        "from sklearn.compose import ColumnTransformer\n",
        "from sklearn.model_selection import GridSearchCV\n",
        "from sklearn.ensemble import GradientBoostingRegressor\n",
        "import matplotlib.pyplot as plt\n",
        "from scipy import stats"
      ],
      "execution_count": null,
      "outputs": []
    },
    {
      "cell_type": "code",
      "metadata": {
        "id": "1JkEh6jZYxWR",
        "outputId": "fb95bcf1-1d54-4a07-b5d0-9172376b0a76",
        "colab": {
          "base_uri": "https://localhost:8080/",
          "height": 54
        }
      },
      "source": [
        "from google.colab import drive\n",
        "drive.mount('/content/drive')"
      ],
      "execution_count": null,
      "outputs": [
        {
          "output_type": "stream",
          "text": [
            "Drive already mounted at /content/drive; to attempt to forcibly remount, call drive.mount(\"/content/drive\", force_remount=True).\n"
          ],
          "name": "stdout"
        }
      ]
    },
    {
      "cell_type": "code",
      "metadata": {
        "id": "k3pgXKB3Z6_M"
      },
      "source": [
        "def count_available_data(result_dir):\n",
        "\tn = 0\n",
        "\tcounter = 0\n",
        "\tfor filename in os.listdir(result_dir):\n",
        "\t\tif os.path.isdir(os.path.join(result_dir, filename)):\n",
        "\t\t\tjson_file = os.path.join(result_dir, filename, 'Sold.json')\n",
        "\t\t\tdata = open(json_file, 'r').readlines()[0]\n",
        "\t\t\treformatted_data = re.sub('\\\\\\\\\\\"', \"\\'\", data)\n",
        "\t\t\tq = json.loads(reformatted_data)\n",
        "\t\t\tprint('Number of houses in the zipcode:\\t', filename, ' is:\\t', len(q))\n",
        "\t\t\tn += len(q)\n",
        "\t\t\tcounter += 1\n",
        "\tprint('Number of zipcodes =\\t', counter)\n",
        "\tprint('Total number of house =\\t', n)\n",
        "\tprint('Average house per zipcode =\\t', n / counter)\n",
        "\treturn n"
      ],
      "execution_count": null,
      "outputs": []
    },
    {
      "cell_type": "code",
      "metadata": {
        "id": "YhUdy0UzZ8-4"
      },
      "source": [
        "def get_required_data(result_dir):\n",
        "\tall_available_data = []\n",
        "\n",
        "\tfor filename in os.listdir(result_dir):\n",
        "\t\tif os.path.isdir(os.path.join(result_dir, filename)):\n",
        "\t\t\tjson_file = os.path.join(result_dir, filename, 'Sold.json')\n",
        "\t\t\tdata = open(json_file, 'r').readlines()[0]\n",
        "\t\t\treformatted_data = re.sub('\\\\\\\\\\\"', \"\\'\", data)\n",
        "\t\t\tq = json.loads(reformatted_data)\n",
        "\t\t\t# get required properties\n",
        "\n",
        "\t\t\tfor house_zpid, features in q.items():\n",
        "\t\t\t\thouse_info = {}\n",
        "\t\t\t\ttry:\n",
        "\t\t\t\t\thouse_info['house_id'] = features['data']['property']['zpid']\n",
        "\t\t\t\t\thouse_info['house_age'] = features['data']['property']['yearBuilt']\n",
        "\t\t\t\t\thouse_info['livingArea'] = features['data']['property']['livingArea']\n",
        "\t\t\t\t\thouse_info['zip_code'] = features['data']['property']['zipcode']\n",
        "\t\t\t\t\thouse_info['homeType'] = features['data']['property']['homeType']\n",
        "\t\t\t\t\thouse_info['number_of_bathrooms'] = features['data']['property']['bathrooms']\n",
        "\t\t\t\t\thouse_info['number_of_bedrooms'] = features['data']['property']['bedrooms']\n",
        "\t\t\t\t\thouse_info['house_lot_size'] = features['data']['property']['lotSize']\n",
        "\t\t\t\t\thouse_info['has_basement'] = features['data']['property']['resoFacts']['basement']\n",
        "\t\t\t\t\t# house_info[has_elevator'] =\n",
        "\t\t\t\t\thouse_info['has_pool'] = features['data']['property']['resoFacts']['hasPrivatePool']\n",
        "\t\t\t\t\thouse_info['has_garage'] = features['data']['property']['resoFacts']['hasGarage']\n",
        "\n",
        "\t\t\t\t\thouse_info['country'] = features['data']['property']['country']\n",
        "\t\t\t\t\thouse_info['city'] = features['data']['property']['city']\n",
        "\t\t\t\t\thouse_info['state'] = features['data']['property']['state']\n",
        "\t\t\t\t\thouse_info['latitude'] = features['data']['property']['latitude']\n",
        "\t\t\t\t\thouse_info['longitude'] = features['data']['property']['longitude']\n",
        "\t\t\t\t\thouse_info['bathroomsFull'] = features['data']['property']['resoFacts']['bathroomsFull']\n",
        "\t\t\t\t\thouse_info['bathroomsHalf'] = features['data']['property']['resoFacts']['bathroomsHalf']\n",
        "\t\t\t\t\thouse_info['structureType'] = features['data']['property']['resoFacts']['structureType']\n",
        "\t\t\t\t\thouse_info['stories'] = features['data']['property']['resoFacts']['stories']\n",
        "\t\t\t\t\thouse_info['parking'] = features['data']['property']['resoFacts']['parking']\n",
        "\t\t\t\t\thouse_info['basement'] = features['data']['property']['resoFacts']['basement']\n",
        "\t\t\t\t\thouse_info['flooring'] = features['data']['property']['resoFacts']['flooring']\n",
        "\t\t\t\t\thouse_info['heating'] = features['data']['property']['resoFacts']['heating']\n",
        "\t\t\t\t\thouse_info['cooling'] = features['data']['property']['resoFacts']['cooling']\n",
        "\t\t\t\t\thouse_info['cooling'] = features['data']['property']['resoFacts']['cooling']\n",
        "\t\t\t\t\thouse_info['cooling'] = features['data']['property']['resoFacts']['cooling']\n",
        "\t\t\t\t\thouse_info['cooling'] = features['data']['property']['resoFacts']['cooling']\n",
        "\n",
        "\t\t\t\t\thouse_info['zestiamte'] = features['data']['property']['zestimate']\n",
        "\t\t\t\t\thouse_info['sold_price'] = features['data']['property']['lastSoldPrice']\n",
        "\n",
        "\t\t\t\t\tall_available_data.append(house_info)\n",
        "\t\t\t\texcept Exception as e:\n",
        "\t\t\t\t\tprint('############ ERROR ############')\n",
        "\t\t\t\t\tprint(e)\n",
        "\t\t\t\t\tprint('zipcode =\\t', filename)\n",
        "\t\t\t\t\tprint('zpid =\\t', house_zpid)\n",
        "\t\t\t\t\tprint('############ ERROR ############')\n",
        "\thouse_data_df = pd.DataFrame(all_available_data)\n",
        "\thouse_data_df.to_csv('results.csv', index=False)\n",
        "\treturn house_data_df"
      ],
      "execution_count": null,
      "outputs": []
    },
    {
      "cell_type": "markdown",
      "metadata": {
        "id": "VN0dSDIKolll"
      },
      "source": [
        "## train model function\n"
      ]
    },
    {
      "cell_type": "code",
      "metadata": {
        "id": "sCVQvdyiZ-mF"
      },
      "source": [
        "def train_model(dataset, base_model, params=None, verbose=0):\n",
        "\t\t# Append regressor to preprocessing pipeline.\n",
        "\t# Now we have a full prediction pipeline.\n",
        "\n",
        "\n",
        "\tnumeric_features = ['house_age', 'livingArea', 'house_lot_size']\n",
        "\tnumeric_transformer = Pipeline(steps=[\n",
        "\t\t('imputer', SimpleImputer(strategy='mean')),\n",
        "\t\t('scaler', StandardScaler())\n",
        "  ])\n",
        "\n",
        "\tcategorical_features = ['homeType', 'state', 'structureType']\n",
        "\tcategorical_transformer = Pipeline(steps=[\n",
        "\t\t# ('labelEncoder', preprocessing.LabelEncoder())\n",
        "\t\t('imputer', SimpleImputer(strategy='most_frequent')),\n",
        "\t\t('OneHotEncoder', OneHotEncoder(handle_unknown='ignore'))\n",
        "  ])\n",
        "\n",
        "\tpreprocessor = ColumnTransformer(\n",
        "\t\ttransformers=[\n",
        "\t\t\t('num', numeric_transformer, numeric_features),\n",
        "\t\t\t('cat', categorical_transformer, categorical_features)\n",
        "   \t\t\t\t\t])\n",
        "\n",
        "\t# Append classifier to preprocessing pipeline.\n",
        "\t# Now we have a full prediction pipeline.\n",
        "\tpipe = Pipeline(steps=[\n",
        "\t\t('preprocessor', preprocessor),\n",
        "\t\t('regressor', base_model)],\n",
        "\t\tverbose=True)\n",
        "\n",
        "\tX = dataset.iloc[:, 1:-2]\n",
        "\ty = dataset.iloc[:, -1]\n",
        "\tX_train, X_test, y_train, y_test = train_test_split(X, y, test_size=0.33, random_state=42)\n",
        "\tif params:\n",
        "\t\tgs = GridSearchCV(pipe, params, cv=3, iid=False, n_jobs=-1, verbose=verbose)\n",
        "\t\tgs.fit(X, y)\n",
        "\t\tprint(\"model score: {:.3}\".format(gs.score(X_test, y_test)))\n",
        "\t\tprint('Best Params:{}'.format(gs.best_params_))\n",
        "\t\tprint('Best Score:{:.3}'.format(gs.best_score_))\n",
        "\n",
        "\tpipe.fit(X_train, y_train)\n",
        "\t# print model info and results\n",
        "\t# print('Model:\\t{}'.format(str(model)))\n",
        "\tprint('X_train.shape:\\t{}'.format(X_train.shape))\n",
        "\tprint('X_test.shape:\\t{}'.format(X_test.shape))\n",
        "\n",
        "\ty_pred = pipe.predict(X_test)\n",
        "\t# mse = mean_squared_error(y_test, y_pred)\n",
        "\t# print('MSE = \\t{:.10}'.format(mse))\n",
        "\tmae = mean_absolute_error(y_test, y_pred)\n",
        "\tprint('MAE = \\t{:.10}'.format(mae))\n",
        "\t# cv_score = cross_val_score(model, X_test, y_test, cv=5)\n",
        "\t# print('cv_score = \\t{}'.format(cv_score))\n",
        "\n",
        "\treturn pipe\n"
      ],
      "execution_count": null,
      "outputs": []
    },
    {
      "cell_type": "code",
      "metadata": {
        "id": "PChmK1RcaBnY",
        "outputId": "6075ce77-189f-426d-860c-2cfc5ec7ab50",
        "colab": {
          "base_uri": "https://localhost:8080/",
          "height": 224
        }
      },
      "source": [
        "results = pd.read_csv('/content/drive/My Drive/results_v3.csv')\n",
        "results.head()"
      ],
      "execution_count": null,
      "outputs": [
        {
          "output_type": "execute_result",
          "data": {
            "text/html": [
              "<div>\n",
              "<style scoped>\n",
              "    .dataframe tbody tr th:only-of-type {\n",
              "        vertical-align: middle;\n",
              "    }\n",
              "\n",
              "    .dataframe tbody tr th {\n",
              "        vertical-align: top;\n",
              "    }\n",
              "\n",
              "    .dataframe thead th {\n",
              "        text-align: right;\n",
              "    }\n",
              "</style>\n",
              "<table border=\"1\" class=\"dataframe\">\n",
              "  <thead>\n",
              "    <tr style=\"text-align: right;\">\n",
              "      <th></th>\n",
              "      <th>house_id</th>\n",
              "      <th>house_age</th>\n",
              "      <th>livingArea</th>\n",
              "      <th>zip_code</th>\n",
              "      <th>homeType</th>\n",
              "      <th>number_of_bathrooms</th>\n",
              "      <th>number_of_bedrooms</th>\n",
              "      <th>house_lot_size</th>\n",
              "      <th>has_basement</th>\n",
              "      <th>has_pool</th>\n",
              "      <th>has_garage</th>\n",
              "      <th>country</th>\n",
              "      <th>city</th>\n",
              "      <th>state</th>\n",
              "      <th>latitude</th>\n",
              "      <th>longitude</th>\n",
              "      <th>bathroomsFull</th>\n",
              "      <th>bathroomsHalf</th>\n",
              "      <th>structureType</th>\n",
              "      <th>stories</th>\n",
              "      <th>parking</th>\n",
              "      <th>basement</th>\n",
              "      <th>flooring</th>\n",
              "      <th>heating</th>\n",
              "      <th>cooling</th>\n",
              "      <th>zestiamte</th>\n",
              "      <th>sold_price</th>\n",
              "    </tr>\n",
              "  </thead>\n",
              "  <tbody>\n",
              "    <tr>\n",
              "      <th>0</th>\n",
              "      <td>2089012599</td>\n",
              "      <td>NaN</td>\n",
              "      <td>NaN</td>\n",
              "      <td>840</td>\n",
              "      <td>LOT</td>\n",
              "      <td>NaN</td>\n",
              "      <td>NaN</td>\n",
              "      <td>31363.0</td>\n",
              "      <td>NaN</td>\n",
              "      <td>False</td>\n",
              "      <td>False</td>\n",
              "      <td>USA</td>\n",
              "      <td>St. Croix</td>\n",
              "      <td>VI</td>\n",
              "      <td>17.702918</td>\n",
              "      <td>-64.884460</td>\n",
              "      <td>NaN</td>\n",
              "      <td>NaN</td>\n",
              "      <td>NaN</td>\n",
              "      <td>0.0</td>\n",
              "      <td>NaN</td>\n",
              "      <td>NaN</td>\n",
              "      <td>NaN</td>\n",
              "      <td>NaN</td>\n",
              "      <td>NaN</td>\n",
              "      <td>NaN</td>\n",
              "      <td>220000.0</td>\n",
              "    </tr>\n",
              "    <tr>\n",
              "      <th>1</th>\n",
              "      <td>2085997000</td>\n",
              "      <td>NaN</td>\n",
              "      <td>3150.0</td>\n",
              "      <td>850</td>\n",
              "      <td>MULTI_FAMILY</td>\n",
              "      <td>4.0</td>\n",
              "      <td>5.0</td>\n",
              "      <td>42688.0</td>\n",
              "      <td>NaN</td>\n",
              "      <td>True</td>\n",
              "      <td>False</td>\n",
              "      <td>USA</td>\n",
              "      <td>St. Croix</td>\n",
              "      <td>VI</td>\n",
              "      <td>17.722526</td>\n",
              "      <td>-64.885484</td>\n",
              "      <td>NaN</td>\n",
              "      <td>NaN</td>\n",
              "      <td>NaN</td>\n",
              "      <td>0.0</td>\n",
              "      <td>NaN</td>\n",
              "      <td>NaN</td>\n",
              "      <td>['Ceramic']</td>\n",
              "      <td>NaN</td>\n",
              "      <td>NaN</td>\n",
              "      <td>NaN</td>\n",
              "      <td>969500.0</td>\n",
              "    </tr>\n",
              "    <tr>\n",
              "      <th>2</th>\n",
              "      <td>2115572201</td>\n",
              "      <td>NaN</td>\n",
              "      <td>2000.0</td>\n",
              "      <td>840</td>\n",
              "      <td>MULTI_FAMILY</td>\n",
              "      <td>3.0</td>\n",
              "      <td>3.0</td>\n",
              "      <td>5227.0</td>\n",
              "      <td>NaN</td>\n",
              "      <td>False</td>\n",
              "      <td>False</td>\n",
              "      <td>USA</td>\n",
              "      <td>Frederiksted</td>\n",
              "      <td>VI</td>\n",
              "      <td>17.710449</td>\n",
              "      <td>-64.881426</td>\n",
              "      <td>NaN</td>\n",
              "      <td>NaN</td>\n",
              "      <td>NaN</td>\n",
              "      <td>0.0</td>\n",
              "      <td>NaN</td>\n",
              "      <td>NaN</td>\n",
              "      <td>NaN</td>\n",
              "      <td>NaN</td>\n",
              "      <td>NaN</td>\n",
              "      <td>NaN</td>\n",
              "      <td>425000.0</td>\n",
              "    </tr>\n",
              "    <tr>\n",
              "      <th>3</th>\n",
              "      <td>2090502333</td>\n",
              "      <td>2015.0</td>\n",
              "      <td>2400.0</td>\n",
              "      <td>840</td>\n",
              "      <td>SINGLE_FAMILY</td>\n",
              "      <td>2.0</td>\n",
              "      <td>3.0</td>\n",
              "      <td>10454.0</td>\n",
              "      <td>NaN</td>\n",
              "      <td>False</td>\n",
              "      <td>False</td>\n",
              "      <td>USA</td>\n",
              "      <td>St. Croix</td>\n",
              "      <td>VI</td>\n",
              "      <td>17.712784</td>\n",
              "      <td>-64.873513</td>\n",
              "      <td>NaN</td>\n",
              "      <td>NaN</td>\n",
              "      <td>NaN</td>\n",
              "      <td>0.0</td>\n",
              "      <td>NaN</td>\n",
              "      <td>NaN</td>\n",
              "      <td>['Ceramic']</td>\n",
              "      <td>NaN</td>\n",
              "      <td>NaN</td>\n",
              "      <td>NaN</td>\n",
              "      <td>239900.0</td>\n",
              "    </tr>\n",
              "    <tr>\n",
              "      <th>4</th>\n",
              "      <td>2089012597</td>\n",
              "      <td>NaN</td>\n",
              "      <td>NaN</td>\n",
              "      <td>840</td>\n",
              "      <td>LOT</td>\n",
              "      <td>NaN</td>\n",
              "      <td>NaN</td>\n",
              "      <td>17424.0</td>\n",
              "      <td>NaN</td>\n",
              "      <td>False</td>\n",
              "      <td>False</td>\n",
              "      <td>USA</td>\n",
              "      <td>St. Croix</td>\n",
              "      <td>VI</td>\n",
              "      <td>17.703159</td>\n",
              "      <td>-64.883393</td>\n",
              "      <td>NaN</td>\n",
              "      <td>NaN</td>\n",
              "      <td>NaN</td>\n",
              "      <td>0.0</td>\n",
              "      <td>NaN</td>\n",
              "      <td>NaN</td>\n",
              "      <td>NaN</td>\n",
              "      <td>NaN</td>\n",
              "      <td>NaN</td>\n",
              "      <td>NaN</td>\n",
              "      <td>39000.0</td>\n",
              "    </tr>\n",
              "  </tbody>\n",
              "</table>\n",
              "</div>"
            ],
            "text/plain": [
              "     house_id  house_age  livingArea  ...  cooling zestiamte  sold_price\n",
              "0  2089012599        NaN         NaN  ...      NaN       NaN    220000.0\n",
              "1  2085997000        NaN      3150.0  ...      NaN       NaN    969500.0\n",
              "2  2115572201        NaN      2000.0  ...      NaN       NaN    425000.0\n",
              "3  2090502333     2015.0      2400.0  ...      NaN       NaN    239900.0\n",
              "4  2089012597        NaN         NaN  ...      NaN       NaN     39000.0\n",
              "\n",
              "[5 rows x 27 columns]"
            ]
          },
          "metadata": {
            "tags": []
          },
          "execution_count": 179
        }
      ]
    },
    {
      "cell_type": "code",
      "metadata": {
        "id": "-68_qsSQLa3W",
        "outputId": "1027b946-1d43-44e2-d18f-8259dfff3620",
        "colab": {
          "base_uri": "https://localhost:8080/",
          "height": 638
        }
      },
      "source": [
        "percent_missing = results.isnull().sum() * 100 / len(results)\n",
        "missing_value_df = pd.DataFrame({'column_name': results.columns,\n",
        "                                 'percent_missing': percent_missing})\n",
        "missing_value_df.sort_values('percent_missing', inplace=True)\n",
        "missing_value_df"
      ],
      "execution_count": null,
      "outputs": [
        {
          "output_type": "execute_result",
          "data": {
            "text/html": [
              "<div>\n",
              "<style scoped>\n",
              "    .dataframe tbody tr th:only-of-type {\n",
              "        vertical-align: middle;\n",
              "    }\n",
              "\n",
              "    .dataframe tbody tr th {\n",
              "        vertical-align: top;\n",
              "    }\n",
              "\n",
              "    .dataframe thead th {\n",
              "        text-align: right;\n",
              "    }\n",
              "</style>\n",
              "<table border=\"1\" class=\"dataframe\">\n",
              "  <thead>\n",
              "    <tr style=\"text-align: right;\">\n",
              "      <th></th>\n",
              "      <th>column_name</th>\n",
              "      <th>percent_missing</th>\n",
              "    </tr>\n",
              "  </thead>\n",
              "  <tbody>\n",
              "    <tr>\n",
              "      <th>house_id</th>\n",
              "      <td>house_id</td>\n",
              "      <td>0.0</td>\n",
              "    </tr>\n",
              "    <tr>\n",
              "      <th>stories</th>\n",
              "      <td>stories</td>\n",
              "      <td>0.0</td>\n",
              "    </tr>\n",
              "    <tr>\n",
              "      <th>structureType</th>\n",
              "      <td>structureType</td>\n",
              "      <td>0.0</td>\n",
              "    </tr>\n",
              "    <tr>\n",
              "      <th>bathroomsHalf</th>\n",
              "      <td>bathroomsHalf</td>\n",
              "      <td>0.0</td>\n",
              "    </tr>\n",
              "    <tr>\n",
              "      <th>bathroomsFull</th>\n",
              "      <td>bathroomsFull</td>\n",
              "      <td>0.0</td>\n",
              "    </tr>\n",
              "    <tr>\n",
              "      <th>longitude</th>\n",
              "      <td>longitude</td>\n",
              "      <td>0.0</td>\n",
              "    </tr>\n",
              "    <tr>\n",
              "      <th>latitude</th>\n",
              "      <td>latitude</td>\n",
              "      <td>0.0</td>\n",
              "    </tr>\n",
              "    <tr>\n",
              "      <th>state</th>\n",
              "      <td>state</td>\n",
              "      <td>0.0</td>\n",
              "    </tr>\n",
              "    <tr>\n",
              "      <th>zestiamte</th>\n",
              "      <td>zestiamte</td>\n",
              "      <td>0.0</td>\n",
              "    </tr>\n",
              "    <tr>\n",
              "      <th>has_garage</th>\n",
              "      <td>has_garage</td>\n",
              "      <td>0.0</td>\n",
              "    </tr>\n",
              "    <tr>\n",
              "      <th>house_lot_size</th>\n",
              "      <td>house_lot_size</td>\n",
              "      <td>0.0</td>\n",
              "    </tr>\n",
              "    <tr>\n",
              "      <th>number_of_bedrooms</th>\n",
              "      <td>number_of_bedrooms</td>\n",
              "      <td>0.0</td>\n",
              "    </tr>\n",
              "    <tr>\n",
              "      <th>number_of_bathrooms</th>\n",
              "      <td>number_of_bathrooms</td>\n",
              "      <td>0.0</td>\n",
              "    </tr>\n",
              "    <tr>\n",
              "      <th>homeType</th>\n",
              "      <td>homeType</td>\n",
              "      <td>0.0</td>\n",
              "    </tr>\n",
              "    <tr>\n",
              "      <th>zip_code</th>\n",
              "      <td>zip_code</td>\n",
              "      <td>0.0</td>\n",
              "    </tr>\n",
              "    <tr>\n",
              "      <th>livingArea</th>\n",
              "      <td>livingArea</td>\n",
              "      <td>0.0</td>\n",
              "    </tr>\n",
              "    <tr>\n",
              "      <th>house_age</th>\n",
              "      <td>house_age</td>\n",
              "      <td>0.0</td>\n",
              "    </tr>\n",
              "    <tr>\n",
              "      <th>has_pool</th>\n",
              "      <td>has_pool</td>\n",
              "      <td>0.0</td>\n",
              "    </tr>\n",
              "    <tr>\n",
              "      <th>sold_price</th>\n",
              "      <td>sold_price</td>\n",
              "      <td>0.0</td>\n",
              "    </tr>\n",
              "  </tbody>\n",
              "</table>\n",
              "</div>"
            ],
            "text/plain": [
              "                             column_name  percent_missing\n",
              "house_id                        house_id              0.0\n",
              "stories                          stories              0.0\n",
              "structureType              structureType              0.0\n",
              "bathroomsHalf              bathroomsHalf              0.0\n",
              "bathroomsFull              bathroomsFull              0.0\n",
              "longitude                      longitude              0.0\n",
              "latitude                        latitude              0.0\n",
              "state                              state              0.0\n",
              "zestiamte                      zestiamte              0.0\n",
              "has_garage                    has_garage              0.0\n",
              "house_lot_size            house_lot_size              0.0\n",
              "number_of_bedrooms    number_of_bedrooms              0.0\n",
              "number_of_bathrooms  number_of_bathrooms              0.0\n",
              "homeType                        homeType              0.0\n",
              "zip_code                        zip_code              0.0\n",
              "livingArea                    livingArea              0.0\n",
              "house_age                      house_age              0.0\n",
              "has_pool                        has_pool              0.0\n",
              "sold_price                    sold_price              0.0"
            ]
          },
          "metadata": {
            "tags": []
          },
          "execution_count": 202
        }
      ]
    },
    {
      "cell_type": "markdown",
      "metadata": {
        "id": "5feMihjMYHm5"
      },
      "source": [
        "## remove missing values"
      ]
    },
    {
      "cell_type": "code",
      "metadata": {
        "id": "1K1nJAbBYN_o"
      },
      "source": [
        "results  = results.drop(columns=['parking','country','city','heating','cooling','has_basement','basement','flooring'])"
      ],
      "execution_count": null,
      "outputs": []
    },
    {
      "cell_type": "code",
      "metadata": {
        "id": "MIdgdzaFEQ1g"
      },
      "source": [
        "results = results.dropna(axis=0, subset=['zestiamte','sold_price'])"
      ],
      "execution_count": null,
      "outputs": []
    },
    {
      "cell_type": "code",
      "metadata": {
        "id": "CraE-RSSoAo9"
      },
      "source": [
        "age = pd.DataFrame(2020-results['house_age'])\n",
        "results['house_age'] = age"
      ],
      "execution_count": null,
      "outputs": []
    },
    {
      "cell_type": "code",
      "metadata": {
        "id": "-S4m2_BJajos",
        "outputId": "da257d46-7c54-4da2-8769-45b1aee1659c",
        "colab": {
          "base_uri": "https://localhost:8080/",
          "height": 34
        }
      },
      "source": [
        "mean_absolute_error(results['zestiamte'], results['sold_price'])"
      ],
      "execution_count": null,
      "outputs": [
        {
          "output_type": "execute_result",
          "data": {
            "text/plain": [
              "67499.74591623139"
            ]
          },
          "metadata": {
            "tags": []
          },
          "execution_count": 184
        }
      ]
    },
    {
      "cell_type": "code",
      "metadata": {
        "id": "_o4sbw_IPRaU",
        "outputId": "fc214b64-687f-43fd-e52d-ce0b6a7526c2",
        "colab": {
          "base_uri": "https://localhost:8080/",
          "height": 425
        }
      },
      "source": [
        "results.info()"
      ],
      "execution_count": null,
      "outputs": [
        {
          "output_type": "stream",
          "text": [
            "<class 'pandas.core.frame.DataFrame'>\n",
            "Int64Index: 51117 entries, 8 to 57992\n",
            "Data columns (total 19 columns):\n",
            "house_id               51117 non-null int64\n",
            "house_age              48204 non-null float64\n",
            "livingArea             49338 non-null float64\n",
            "zip_code               51117 non-null int64\n",
            "homeType               51058 non-null object\n",
            "number_of_bathrooms    45816 non-null float64\n",
            "number_of_bedrooms     47553 non-null float64\n",
            "house_lot_size         41973 non-null float64\n",
            "has_pool               51117 non-null bool\n",
            "has_garage             51117 non-null bool\n",
            "state                  51116 non-null object\n",
            "latitude               51117 non-null float64\n",
            "longitude              51117 non-null float64\n",
            "bathroomsFull          34806 non-null float64\n",
            "bathroomsHalf          15393 non-null float64\n",
            "structureType          32123 non-null object\n",
            "stories                44020 non-null float64\n",
            "zestiamte              51117 non-null float64\n",
            "sold_price             51117 non-null float64\n",
            "dtypes: bool(2), float64(12), int64(2), object(3)\n",
            "memory usage: 7.1+ MB\n"
          ],
          "name": "stdout"
        }
      ]
    },
    {
      "cell_type": "code",
      "metadata": {
        "id": "qrLgdkeYS78H",
        "outputId": "469b8792-bcec-4727-ad93-be70c54fa939",
        "colab": {
          "base_uri": "https://localhost:8080/",
          "height": 224
        }
      },
      "source": [
        "results.sample(5)"
      ],
      "execution_count": null,
      "outputs": [
        {
          "output_type": "execute_result",
          "data": {
            "text/html": [
              "<div>\n",
              "<style scoped>\n",
              "    .dataframe tbody tr th:only-of-type {\n",
              "        vertical-align: middle;\n",
              "    }\n",
              "\n",
              "    .dataframe tbody tr th {\n",
              "        vertical-align: top;\n",
              "    }\n",
              "\n",
              "    .dataframe thead th {\n",
              "        text-align: right;\n",
              "    }\n",
              "</style>\n",
              "<table border=\"1\" class=\"dataframe\">\n",
              "  <thead>\n",
              "    <tr style=\"text-align: right;\">\n",
              "      <th></th>\n",
              "      <th>house_id</th>\n",
              "      <th>house_age</th>\n",
              "      <th>livingArea</th>\n",
              "      <th>zip_code</th>\n",
              "      <th>homeType</th>\n",
              "      <th>number_of_bathrooms</th>\n",
              "      <th>number_of_bedrooms</th>\n",
              "      <th>house_lot_size</th>\n",
              "      <th>has_pool</th>\n",
              "      <th>has_garage</th>\n",
              "      <th>state</th>\n",
              "      <th>latitude</th>\n",
              "      <th>longitude</th>\n",
              "      <th>bathroomsFull</th>\n",
              "      <th>bathroomsHalf</th>\n",
              "      <th>structureType</th>\n",
              "      <th>stories</th>\n",
              "      <th>zestiamte</th>\n",
              "      <th>sold_price</th>\n",
              "    </tr>\n",
              "  </thead>\n",
              "  <tbody>\n",
              "    <tr>\n",
              "      <th>24160</th>\n",
              "      <td>56143658</td>\n",
              "      <td>25.0</td>\n",
              "      <td>2938.0</td>\n",
              "      <td>1030</td>\n",
              "      <td>SINGLE_FAMILY</td>\n",
              "      <td>3.0</td>\n",
              "      <td>4.0</td>\n",
              "      <td>23522.0</td>\n",
              "      <td>True</td>\n",
              "      <td>True</td>\n",
              "      <td>MA</td>\n",
              "      <td>42.041992</td>\n",
              "      <td>-72.682872</td>\n",
              "      <td>2.0</td>\n",
              "      <td>1.0</td>\n",
              "      <td>Colonial</td>\n",
              "      <td>2.0</td>\n",
              "      <td>435142.0</td>\n",
              "      <td>400000.0</td>\n",
              "    </tr>\n",
              "    <tr>\n",
              "      <th>40566</th>\n",
              "      <td>86765120</td>\n",
              "      <td>50.0</td>\n",
              "      <td>1080.0</td>\n",
              "      <td>3307</td>\n",
              "      <td>SINGLE_FAMILY</td>\n",
              "      <td>1.0</td>\n",
              "      <td>1.0</td>\n",
              "      <td>827640.0</td>\n",
              "      <td>False</td>\n",
              "      <td>False</td>\n",
              "      <td>NH</td>\n",
              "      <td>43.312525</td>\n",
              "      <td>-71.520686</td>\n",
              "      <td>NaN</td>\n",
              "      <td>NaN</td>\n",
              "      <td>NaN</td>\n",
              "      <td>1.0</td>\n",
              "      <td>177800.0</td>\n",
              "      <td>152933.0</td>\n",
              "    </tr>\n",
              "    <tr>\n",
              "      <th>53139</th>\n",
              "      <td>56144833</td>\n",
              "      <td>30.0</td>\n",
              "      <td>2594.0</td>\n",
              "      <td>1001</td>\n",
              "      <td>SINGLE_FAMILY</td>\n",
              "      <td>2.5</td>\n",
              "      <td>4.0</td>\n",
              "      <td>43369.0</td>\n",
              "      <td>False</td>\n",
              "      <td>False</td>\n",
              "      <td>MA</td>\n",
              "      <td>42.039628</td>\n",
              "      <td>-72.630184</td>\n",
              "      <td>NaN</td>\n",
              "      <td>NaN</td>\n",
              "      <td>Contemporary</td>\n",
              "      <td>2.0</td>\n",
              "      <td>392627.0</td>\n",
              "      <td>371500.0</td>\n",
              "    </tr>\n",
              "    <tr>\n",
              "      <th>57724</th>\n",
              "      <td>56257121</td>\n",
              "      <td>60.0</td>\n",
              "      <td>1714.0</td>\n",
              "      <td>1002</td>\n",
              "      <td>SINGLE_FAMILY</td>\n",
              "      <td>2.0</td>\n",
              "      <td>3.0</td>\n",
              "      <td>20037.0</td>\n",
              "      <td>False</td>\n",
              "      <td>False</td>\n",
              "      <td>MA</td>\n",
              "      <td>42.356260</td>\n",
              "      <td>-72.515792</td>\n",
              "      <td>2.0</td>\n",
              "      <td>NaN</td>\n",
              "      <td>Ranch</td>\n",
              "      <td>1.0</td>\n",
              "      <td>421701.0</td>\n",
              "      <td>405000.0</td>\n",
              "    </tr>\n",
              "    <tr>\n",
              "      <th>29611</th>\n",
              "      <td>39288913</td>\n",
              "      <td>105.0</td>\n",
              "      <td>1330.0</td>\n",
              "      <td>7740</td>\n",
              "      <td>SINGLE_FAMILY</td>\n",
              "      <td>1.0</td>\n",
              "      <td>4.0</td>\n",
              "      <td>7501.0</td>\n",
              "      <td>False</td>\n",
              "      <td>False</td>\n",
              "      <td>NJ</td>\n",
              "      <td>40.306584</td>\n",
              "      <td>-73.992356</td>\n",
              "      <td>1.0</td>\n",
              "      <td>NaN</td>\n",
              "      <td>Colonial</td>\n",
              "      <td>0.0</td>\n",
              "      <td>187134.0</td>\n",
              "      <td>185000.0</td>\n",
              "    </tr>\n",
              "  </tbody>\n",
              "</table>\n",
              "</div>"
            ],
            "text/plain": [
              "       house_id  house_age  livingArea  ...  stories zestiamte  sold_price\n",
              "24160  56143658       25.0      2938.0  ...      2.0  435142.0    400000.0\n",
              "40566  86765120       50.0      1080.0  ...      1.0  177800.0    152933.0\n",
              "53139  56144833       30.0      2594.0  ...      2.0  392627.0    371500.0\n",
              "57724  56257121       60.0      1714.0  ...      1.0  421701.0    405000.0\n",
              "29611  39288913      105.0      1330.0  ...      0.0  187134.0    185000.0\n",
              "\n",
              "[5 rows x 19 columns]"
            ]
          },
          "metadata": {
            "tags": []
          },
          "execution_count": 186
        }
      ]
    },
    {
      "cell_type": "code",
      "metadata": {
        "id": "ctyq8tsuJjbB",
        "outputId": "e7b673df-a029-4a92-bc35-31219504027b",
        "colab": {
          "base_uri": "https://localhost:8080/",
          "height": 425
        }
      },
      "source": [
        "results = results.dropna()\n",
        "results.info()"
      ],
      "execution_count": null,
      "outputs": [
        {
          "output_type": "stream",
          "text": [
            "<class 'pandas.core.frame.DataFrame'>\n",
            "Int64Index: 9931 entries, 14 to 57989\n",
            "Data columns (total 19 columns):\n",
            "house_id               9931 non-null int64\n",
            "house_age              9931 non-null float64\n",
            "livingArea             9931 non-null float64\n",
            "zip_code               9931 non-null int64\n",
            "homeType               9931 non-null object\n",
            "number_of_bathrooms    9931 non-null float64\n",
            "number_of_bedrooms     9931 non-null float64\n",
            "house_lot_size         9931 non-null float64\n",
            "has_pool               9931 non-null bool\n",
            "has_garage             9931 non-null bool\n",
            "state                  9931 non-null object\n",
            "latitude               9931 non-null float64\n",
            "longitude              9931 non-null float64\n",
            "bathroomsFull          9931 non-null float64\n",
            "bathroomsHalf          9931 non-null float64\n",
            "structureType          9931 non-null object\n",
            "stories                9931 non-null float64\n",
            "zestiamte              9931 non-null float64\n",
            "sold_price             9931 non-null float64\n",
            "dtypes: bool(2), float64(12), int64(2), object(3)\n",
            "memory usage: 1.4+ MB\n"
          ],
          "name": "stdout"
        }
      ]
    },
    {
      "cell_type": "code",
      "metadata": {
        "id": "2kZtK1PrXeIc"
      },
      "source": [
        "# from sklearn import preprocessing\n",
        "\n",
        "# x = results['house_age','livingArea'].values #returns a numpy array\n",
        "# min_max_scaler = preprocessing.MinMaxScaler()\n",
        "# x_scaled = min_max_scaler.fit_transform(x)\n",
        "# x_scaled.min()"
      ],
      "execution_count": null,
      "outputs": []
    },
    {
      "cell_type": "code",
      "metadata": {
        "id": "gIAnLTfYhJLL",
        "colab": {
          "base_uri": "https://localhost:8080/",
          "height": 34
        },
        "outputId": "18ae426f-edcd-4b3c-fe3e-a0bbeeb45843"
      },
      "source": [
        "results['state'].isnull().sum() * 100 / len(results)"
      ],
      "execution_count": null,
      "outputs": [
        {
          "output_type": "execute_result",
          "data": {
            "text/plain": [
              "0.0"
            ]
          },
          "metadata": {
            "tags": []
          },
          "execution_count": 189
        }
      ]
    },
    {
      "cell_type": "code",
      "metadata": {
        "id": "UYttu4ktgr3o"
      },
      "source": [
        "# si = SimpleImputer(strategy='most_frequent')\n",
        "# results['homeType'] = si.fit_transform([results['homeType']])\n",
        "# re"
      ],
      "execution_count": null,
      "outputs": []
    },
    {
      "cell_type": "code",
      "metadata": {
        "id": "4xh15oU_rRjF"
      },
      "source": [
        "# from sklearn import preprocessing\n",
        "# le = preprocessing.LabelEncoder()\n",
        "# results['homeType'] = le.fit_transform(results['homeType'])\n",
        "# results['state'] = le.fit_transform(results['state'])\n",
        "# results['structureType'] = le.fit_transform(results['structureType'])"
      ],
      "execution_count": null,
      "outputs": []
    },
    {
      "cell_type": "markdown",
      "metadata": {
        "id": "e_6lV3sqijSI"
      },
      "source": [
        "## remove outliers\n"
      ]
    },
    {
      "cell_type": "markdown",
      "metadata": {
        "id": "6ySoQE-j89Sq"
      },
      "source": [
        "#### Z-score"
      ]
    },
    {
      "cell_type": "code",
      "metadata": {
        "id": "-Dcp1NmFxqve",
        "outputId": "69d49443-d589-4457-dbaf-8ba3f285bd67",
        "colab": {
          "base_uri": "https://localhost:8080/",
          "height": 51
        }
      },
      "source": [
        "from scipy import stats\n",
        "import numpy as np\n",
        "\n",
        "q = results\n",
        "print('results.shape before removal: {}'.format(results.shape))\n",
        "results = results[results['sold_price']>40000]\n",
        "\n",
        "for i in range(15):\n",
        "    z = np.abs(stats.zscore(q['sold_price']))\n",
        "    q = q[(z < 3)]\n",
        "    # print(q.shape)\n",
        "\n",
        "results = q\n",
        "print('results.shape after removal: {}'.format(results.shape))"
      ],
      "execution_count": null,
      "outputs": [
        {
          "output_type": "stream",
          "text": [
            "results.shape before removal: (9931, 19)\n",
            "results.shape after removal: (8889, 19)\n"
          ],
          "name": "stdout"
        }
      ]
    },
    {
      "cell_type": "code",
      "metadata": {
        "id": "xmY6jSAfrEpk",
        "outputId": "25103264-e48c-4374-e8a4-8cc40c6d608c",
        "colab": {
          "base_uri": "https://localhost:8080/",
          "height": 374
        }
      },
      "source": [
        "X = results.iloc[:, 1:-2]\n",
        "Y = results.iloc[:, -1]\n",
        "X.info()"
      ],
      "execution_count": null,
      "outputs": [
        {
          "output_type": "stream",
          "text": [
            "<class 'pandas.core.frame.DataFrame'>\n",
            "Int64Index: 8889 entries, 14 to 57988\n",
            "Data columns (total 16 columns):\n",
            "house_age              8889 non-null float64\n",
            "livingArea             8889 non-null float64\n",
            "zip_code               8889 non-null int64\n",
            "homeType               8889 non-null object\n",
            "number_of_bathrooms    8889 non-null float64\n",
            "number_of_bedrooms     8889 non-null float64\n",
            "house_lot_size         8889 non-null float64\n",
            "has_pool               8889 non-null bool\n",
            "has_garage             8889 non-null bool\n",
            "state                  8889 non-null object\n",
            "latitude               8889 non-null float64\n",
            "longitude              8889 non-null float64\n",
            "bathroomsFull          8889 non-null float64\n",
            "bathroomsHalf          8889 non-null float64\n",
            "structureType          8889 non-null object\n",
            "stories                8889 non-null float64\n",
            "dtypes: bool(2), float64(10), int64(1), object(3)\n",
            "memory usage: 1.0+ MB\n"
          ],
          "name": "stdout"
        }
      ]
    },
    {
      "cell_type": "code",
      "metadata": {
        "id": "W7hca2VbsH7D"
      },
      "source": [
        "# X_train, X_test, y_train, y_test = train_test_split(X, Y, test_size=0.2)"
      ],
      "execution_count": null,
      "outputs": []
    },
    {
      "cell_type": "code",
      "metadata": {
        "id": "4uvZ6-ED7v2r",
        "outputId": "fc65f430-9ce9-4536-8b2f-1e7cbdde913e",
        "colab": {
          "base_uri": "https://localhost:8080/",
          "height": 297
        }
      },
      "source": [
        "import seaborn as sns\n",
        "sns.boxplot(x=Y)"
      ],
      "execution_count": null,
      "outputs": [
        {
          "output_type": "execute_result",
          "data": {
            "text/plain": [
              "<matplotlib.axes._subplots.AxesSubplot at 0x7f02c01c8e48>"
            ]
          },
          "metadata": {
            "tags": []
          },
          "execution_count": 195
        },
        {
          "output_type": "display_data",
          "data": {
            "image/png": "[encoded data removed]",
            "text/plain": [
              "<Figure size 432x288 with 1 Axes>"
            ]
          },
          "metadata": {
            "tags": []
          }
        }
      ]
    },
    {
      "cell_type": "markdown",
      "metadata": {
        "id": "jDO4uKNq8N1e"
      },
      "source": [
        "#### IQR Score"
      ]
    },
    {
      "cell_type": "code",
      "metadata": {
        "id": "CmaUkcZJ8Q8T"
      },
      "source": [
        "# q = results\n",
        "# print('results.shape before removal: {}'.format(results.shape))\n",
        "\n",
        "# Q1 = q.quantile(0.25)\n",
        "# Q3 = q.quantile(0.75)\n",
        "# IQR = Q3 - Q1\n",
        "# # print(IQR)\n",
        "# q = q[~((q < (Q1 - 1.5 * IQR)) |(q > (Q3 + 1.5 * IQR))).any(axis=1)]\n",
        "# results = q\n",
        "# print('results.shape after removal: {}'.format(results.shape))"
      ],
      "execution_count": null,
      "outputs": []
    },
    {
      "cell_type": "code",
      "metadata": {
        "id": "cGkIip3I9-VO"
      },
      "source": [
        "# X = results.iloc[:, 1:-2]\n",
        "# Y = results.iloc[:, -1]\n",
        "# X.info()"
      ],
      "execution_count": null,
      "outputs": []
    },
    {
      "cell_type": "code",
      "metadata": {
        "id": "e7BFDhMy-LwX"
      },
      "source": [
        "# Y.describe()"
      ],
      "execution_count": null,
      "outputs": []
    },
    {
      "cell_type": "code",
      "metadata": {
        "id": "TP4dtwwq9iyt"
      },
      "source": [
        "# import seaborn as sns\n",
        "# sns.boxplot(x=Y)"
      ],
      "execution_count": null,
      "outputs": []
    },
    {
      "cell_type": "markdown",
      "metadata": {
        "id": "glKKX3kFDNN8"
      },
      "source": [
        "## Feature importance"
      ]
    },
    {
      "cell_type": "code",
      "metadata": {
        "id": "ZR4JzM5rDTnf"
      },
      "source": [
        "# from sklearn.ensemble import ExtraTreesRegressor\n",
        "# import matplotlib.pyplot as plt\n",
        "# model = ExtraTreesRegressor()\n",
        "# model.fit(X,Y)\n",
        "# print(model.feature_importances_) #use inbuilt class feature_importances of tree based classifiers\n",
        "# #plot graph of feature importances for better visualization\n",
        "# feat_importances = pd.Series(model.feature_importances_, index=X.columns)\n",
        "# feat_importances.nlargest(10).plot(kind='barh')\n",
        "# plt.show()"
      ],
      "execution_count": null,
      "outputs": []
    },
    {
      "cell_type": "markdown",
      "metadata": {
        "id": "vF-3gRtEDHug"
      },
      "source": [
        "## Test models"
      ]
    },
    {
      "cell_type": "markdown",
      "metadata": {
        "id": "zIl39iMvoyIm"
      },
      "source": [
        "### KNN"
      ]
    },
    {
      "cell_type": "code",
      "metadata": {
        "id": "dWjEREaGmPzh",
        "outputId": "a091e93b-bea2-4077-e9e2-43784dcea9b5",
        "colab": {
          "base_uri": "https://localhost:8080/",
          "height": 394
        }
      },
      "source": [
        "%%time\n",
        "regressor = neighbors.KNeighborsRegressor()\n",
        "# params = None\n",
        "params = {'regressor__n_neighbors': list(range(15,25)), 'regressor__weights': ['uniform', 'distance']}\n",
        "# Best Params:{'regressor__n_neighbors': 24, 'regressor__weights': 'distance'}\n",
        "train_model(results, regressor, params)"
      ],
      "execution_count": null,
      "outputs": [
        {
          "output_type": "error",
          "ename": "KeyboardInterrupt",
          "evalue": "ignored",
          "traceback": [
            "\u001b[0;31m---------------------------------------------------------------------------\u001b[0m",
            "\u001b[0;31mKeyboardInterrupt\u001b[0m                         Traceback (most recent call last)",
            "\u001b[0;32m<ipython-input-171-c298c798d1be>\u001b[0m in \u001b[0;36m<module>\u001b[0;34m()\u001b[0m\n\u001b[0;32m----> 1\u001b[0;31m \u001b[0mget_ipython\u001b[0m\u001b[0;34m(\u001b[0m\u001b[0;34m)\u001b[0m\u001b[0;34m.\u001b[0m\u001b[0mrun_cell_magic\u001b[0m\u001b[0;34m(\u001b[0m\u001b[0;34m'time'\u001b[0m\u001b[0;34m,\u001b[0m \u001b[0;34m''\u001b[0m\u001b[0;34m,\u001b[0m \u001b[0;34m\"regressor = neighbors.KNeighborsRegressor()\\n# params = None\\nparams = {'regressor__n_neighbors': list(range(15,25)), 'regressor__weights': ['uniform', 'distance']}\\n# Best Params:{'regressor__n_neighbors': 24, 'regressor__weights': 'distance'}\\ntrain_model(results, regressor, params)\"\u001b[0m\u001b[0;34m)\u001b[0m\u001b[0;34m\u001b[0m\u001b[0;34m\u001b[0m\u001b[0m\n\u001b[0m",
            "\u001b[0;32m/usr/local/lib/python3.6/dist-packages/IPython/core/interactiveshell.py\u001b[0m in \u001b[0;36mrun_cell_magic\u001b[0;34m(self, magic_name, line, cell)\u001b[0m\n\u001b[1;32m   2115\u001b[0m             \u001b[0mmagic_arg_s\u001b[0m \u001b[0;34m=\u001b[0m \u001b[0mself\u001b[0m\u001b[0;34m.\u001b[0m\u001b[0mvar_expand\u001b[0m\u001b[0;34m(\u001b[0m\u001b[0mline\u001b[0m\u001b[0;34m,\u001b[0m \u001b[0mstack_depth\u001b[0m\u001b[0;34m)\u001b[0m\u001b[0;34m\u001b[0m\u001b[0;34m\u001b[0m\u001b[0m\n\u001b[1;32m   2116\u001b[0m             \u001b[0;32mwith\u001b[0m \u001b[0mself\u001b[0m\u001b[0;34m.\u001b[0m\u001b[0mbuiltin_trap\u001b[0m\u001b[0;34m:\u001b[0m\u001b[0;34m\u001b[0m\u001b[0;34m\u001b[0m\u001b[0m\n\u001b[0;32m-> 2117\u001b[0;31m                 \u001b[0mresult\u001b[0m \u001b[0;34m=\u001b[0m \u001b[0mfn\u001b[0m\u001b[0;34m(\u001b[0m\u001b[0mmagic_arg_s\u001b[0m\u001b[0;34m,\u001b[0m \u001b[0mcell\u001b[0m\u001b[0;34m)\u001b[0m\u001b[0;34m\u001b[0m\u001b[0;34m\u001b[0m\u001b[0m\n\u001b[0m\u001b[1;32m   2118\u001b[0m             \u001b[0;32mreturn\u001b[0m \u001b[0mresult\u001b[0m\u001b[0;34m\u001b[0m\u001b[0;34m\u001b[0m\u001b[0m\n\u001b[1;32m   2119\u001b[0m \u001b[0;34m\u001b[0m\u001b[0m\n",
            "\u001b[0;32m</usr/local/lib/python3.6/dist-packages/decorator.py:decorator-gen-60>\u001b[0m in \u001b[0;36mtime\u001b[0;34m(self, line, cell, local_ns)\u001b[0m\n",
            "\u001b[0;32m/usr/local/lib/python3.6/dist-packages/IPython/core/magic.py\u001b[0m in \u001b[0;36m<lambda>\u001b[0;34m(f, *a, **k)\u001b[0m\n\u001b[1;32m    186\u001b[0m     \u001b[0;31m# but it's overkill for just that one bit of state.\u001b[0m\u001b[0;34m\u001b[0m\u001b[0;34m\u001b[0m\u001b[0;34m\u001b[0m\u001b[0m\n\u001b[1;32m    187\u001b[0m     \u001b[0;32mdef\u001b[0m \u001b[0mmagic_deco\u001b[0m\u001b[0;34m(\u001b[0m\u001b[0marg\u001b[0m\u001b[0;34m)\u001b[0m\u001b[0;34m:\u001b[0m\u001b[0;34m\u001b[0m\u001b[0;34m\u001b[0m\u001b[0m\n\u001b[0;32m--> 188\u001b[0;31m         \u001b[0mcall\u001b[0m \u001b[0;34m=\u001b[0m \u001b[0;32mlambda\u001b[0m \u001b[0mf\u001b[0m\u001b[0;34m,\u001b[0m \u001b[0;34m*\u001b[0m\u001b[0ma\u001b[0m\u001b[0;34m,\u001b[0m \u001b[0;34m**\u001b[0m\u001b[0mk\u001b[0m\u001b[0;34m:\u001b[0m \u001b[0mf\u001b[0m\u001b[0;34m(\u001b[0m\u001b[0;34m*\u001b[0m\u001b[0ma\u001b[0m\u001b[0;34m,\u001b[0m \u001b[0;34m**\u001b[0m\u001b[0mk\u001b[0m\u001b[0;34m)\u001b[0m\u001b[0;34m\u001b[0m\u001b[0;34m\u001b[0m\u001b[0m\n\u001b[0m\u001b[1;32m    189\u001b[0m \u001b[0;34m\u001b[0m\u001b[0m\n\u001b[1;32m    190\u001b[0m         \u001b[0;32mif\u001b[0m \u001b[0mcallable\u001b[0m\u001b[0;34m(\u001b[0m\u001b[0marg\u001b[0m\u001b[0;34m)\u001b[0m\u001b[0;34m:\u001b[0m\u001b[0;34m\u001b[0m\u001b[0;34m\u001b[0m\u001b[0m\n",
            "\u001b[0;32m/usr/local/lib/python3.6/dist-packages/IPython/core/magics/execution.py\u001b[0m in \u001b[0;36mtime\u001b[0;34m(self, line, cell, local_ns)\u001b[0m\n\u001b[1;32m   1191\u001b[0m         \u001b[0;32melse\u001b[0m\u001b[0;34m:\u001b[0m\u001b[0;34m\u001b[0m\u001b[0;34m\u001b[0m\u001b[0m\n\u001b[1;32m   1192\u001b[0m             \u001b[0mst\u001b[0m \u001b[0;34m=\u001b[0m \u001b[0mclock2\u001b[0m\u001b[0;34m(\u001b[0m\u001b[0;34m)\u001b[0m\u001b[0;34m\u001b[0m\u001b[0;34m\u001b[0m\u001b[0m\n\u001b[0;32m-> 1193\u001b[0;31m             \u001b[0mexec\u001b[0m\u001b[0;34m(\u001b[0m\u001b[0mcode\u001b[0m\u001b[0;34m,\u001b[0m \u001b[0mglob\u001b[0m\u001b[0;34m,\u001b[0m \u001b[0mlocal_ns\u001b[0m\u001b[0;34m)\u001b[0m\u001b[0;34m\u001b[0m\u001b[0;34m\u001b[0m\u001b[0m\n\u001b[0m\u001b[1;32m   1194\u001b[0m             \u001b[0mend\u001b[0m \u001b[0;34m=\u001b[0m \u001b[0mclock2\u001b[0m\u001b[0;34m(\u001b[0m\u001b[0;34m)\u001b[0m\u001b[0;34m\u001b[0m\u001b[0;34m\u001b[0m\u001b[0m\n\u001b[1;32m   1195\u001b[0m             \u001b[0mout\u001b[0m \u001b[0;34m=\u001b[0m \u001b[0;32mNone\u001b[0m\u001b[0;34m\u001b[0m\u001b[0;34m\u001b[0m\u001b[0m\n",
            "\u001b[0;32m<timed exec>\u001b[0m in \u001b[0;36m<module>\u001b[0;34m()\u001b[0m\n",
            "\u001b[0;32m<ipython-input-168-050fb97d1450>\u001b[0m in \u001b[0;36mtrain_model\u001b[0;34m(dataset, base_model, params, verbose)\u001b[0m\n\u001b[1;32m     35\u001b[0m         \u001b[0;32mif\u001b[0m \u001b[0mparams\u001b[0m\u001b[0;34m:\u001b[0m\u001b[0;34m\u001b[0m\u001b[0;34m\u001b[0m\u001b[0m\n\u001b[1;32m     36\u001b[0m                 \u001b[0mgs\u001b[0m \u001b[0;34m=\u001b[0m \u001b[0mGridSearchCV\u001b[0m\u001b[0;34m(\u001b[0m\u001b[0mpipe\u001b[0m\u001b[0;34m,\u001b[0m \u001b[0mparams\u001b[0m\u001b[0;34m,\u001b[0m \u001b[0mcv\u001b[0m\u001b[0;34m=\u001b[0m\u001b[0;36m3\u001b[0m\u001b[0;34m,\u001b[0m \u001b[0miid\u001b[0m\u001b[0;34m=\u001b[0m\u001b[0;32mFalse\u001b[0m\u001b[0;34m,\u001b[0m \u001b[0mn_jobs\u001b[0m\u001b[0;34m=\u001b[0m\u001b[0;34m-\u001b[0m\u001b[0;36m1\u001b[0m\u001b[0;34m,\u001b[0m \u001b[0mverbose\u001b[0m\u001b[0;34m=\u001b[0m\u001b[0mverbose\u001b[0m\u001b[0;34m)\u001b[0m\u001b[0;34m\u001b[0m\u001b[0;34m\u001b[0m\u001b[0m\n\u001b[0;32m---> 37\u001b[0;31m                 \u001b[0mgs\u001b[0m\u001b[0;34m.\u001b[0m\u001b[0mfit\u001b[0m\u001b[0;34m(\u001b[0m\u001b[0mX\u001b[0m\u001b[0;34m,\u001b[0m \u001b[0my\u001b[0m\u001b[0;34m)\u001b[0m\u001b[0;34m\u001b[0m\u001b[0;34m\u001b[0m\u001b[0m\n\u001b[0m\u001b[1;32m     38\u001b[0m                 \u001b[0mprint\u001b[0m\u001b[0;34m(\u001b[0m\u001b[0;34m\"model score: {:.3}\"\u001b[0m\u001b[0;34m.\u001b[0m\u001b[0mformat\u001b[0m\u001b[0;34m(\u001b[0m\u001b[0mgs\u001b[0m\u001b[0;34m.\u001b[0m\u001b[0mscore\u001b[0m\u001b[0;34m(\u001b[0m\u001b[0mX_test\u001b[0m\u001b[0;34m,\u001b[0m \u001b[0my_test\u001b[0m\u001b[0;34m)\u001b[0m\u001b[0;34m)\u001b[0m\u001b[0;34m)\u001b[0m\u001b[0;34m\u001b[0m\u001b[0;34m\u001b[0m\u001b[0m\n\u001b[1;32m     39\u001b[0m                 \u001b[0mprint\u001b[0m\u001b[0;34m(\u001b[0m\u001b[0;34m'Best Params:{}'\u001b[0m\u001b[0;34m.\u001b[0m\u001b[0mformat\u001b[0m\u001b[0;34m(\u001b[0m\u001b[0mgs\u001b[0m\u001b[0;34m.\u001b[0m\u001b[0mbest_params_\u001b[0m\u001b[0;34m)\u001b[0m\u001b[0;34m)\u001b[0m\u001b[0;34m\u001b[0m\u001b[0;34m\u001b[0m\u001b[0m\n",
            "\u001b[0;32m/usr/local/lib/python3.6/dist-packages/sklearn/model_selection/_search.py\u001b[0m in \u001b[0;36mfit\u001b[0;34m(self, X, y, groups, **fit_params)\u001b[0m\n\u001b[1;32m    708\u001b[0m                 \u001b[0;32mreturn\u001b[0m \u001b[0mresults\u001b[0m\u001b[0;34m\u001b[0m\u001b[0;34m\u001b[0m\u001b[0m\n\u001b[1;32m    709\u001b[0m \u001b[0;34m\u001b[0m\u001b[0m\n\u001b[0;32m--> 710\u001b[0;31m             \u001b[0mself\u001b[0m\u001b[0;34m.\u001b[0m\u001b[0m_run_search\u001b[0m\u001b[0;34m(\u001b[0m\u001b[0mevaluate_candidates\u001b[0m\u001b[0;34m)\u001b[0m\u001b[0;34m\u001b[0m\u001b[0;34m\u001b[0m\u001b[0m\n\u001b[0m\u001b[1;32m    711\u001b[0m \u001b[0;34m\u001b[0m\u001b[0m\n\u001b[1;32m    712\u001b[0m         \u001b[0;31m# For multi-metric evaluation, store the best_index_, best_params_ and\u001b[0m\u001b[0;34m\u001b[0m\u001b[0;34m\u001b[0m\u001b[0;34m\u001b[0m\u001b[0m\n",
            "\u001b[0;32m/usr/local/lib/python3.6/dist-packages/sklearn/model_selection/_search.py\u001b[0m in \u001b[0;36m_run_search\u001b[0;34m(self, evaluate_candidates)\u001b[0m\n\u001b[1;32m   1149\u001b[0m     \u001b[0;32mdef\u001b[0m \u001b[0m_run_search\u001b[0m\u001b[0;34m(\u001b[0m\u001b[0mself\u001b[0m\u001b[0;34m,\u001b[0m \u001b[0mevaluate_candidates\u001b[0m\u001b[0;34m)\u001b[0m\u001b[0;34m:\u001b[0m\u001b[0;34m\u001b[0m\u001b[0;34m\u001b[0m\u001b[0m\n\u001b[1;32m   1150\u001b[0m         \u001b[0;34m\"\"\"Search all candidates in param_grid\"\"\"\u001b[0m\u001b[0;34m\u001b[0m\u001b[0;34m\u001b[0m\u001b[0m\n\u001b[0;32m-> 1151\u001b[0;31m         \u001b[0mevaluate_candidates\u001b[0m\u001b[0;34m(\u001b[0m\u001b[0mParameterGrid\u001b[0m\u001b[0;34m(\u001b[0m\u001b[0mself\u001b[0m\u001b[0;34m.\u001b[0m\u001b[0mparam_grid\u001b[0m\u001b[0;34m)\u001b[0m\u001b[0;34m)\u001b[0m\u001b[0;34m\u001b[0m\u001b[0;34m\u001b[0m\u001b[0m\n\u001b[0m\u001b[1;32m   1152\u001b[0m \u001b[0;34m\u001b[0m\u001b[0m\n\u001b[1;32m   1153\u001b[0m \u001b[0;34m\u001b[0m\u001b[0m\n",
            "\u001b[0;32m/usr/local/lib/python3.6/dist-packages/sklearn/model_selection/_search.py\u001b[0m in \u001b[0;36mevaluate_candidates\u001b[0;34m(candidate_params)\u001b[0m\n\u001b[1;32m    687\u001b[0m                                \u001b[0;32mfor\u001b[0m \u001b[0mparameters\u001b[0m\u001b[0;34m,\u001b[0m \u001b[0;34m(\u001b[0m\u001b[0mtrain\u001b[0m\u001b[0;34m,\u001b[0m \u001b[0mtest\u001b[0m\u001b[0;34m)\u001b[0m\u001b[0;34m\u001b[0m\u001b[0;34m\u001b[0m\u001b[0m\n\u001b[1;32m    688\u001b[0m                                in product(candidate_params,\n\u001b[0;32m--> 689\u001b[0;31m                                           cv.split(X, y, groups)))\n\u001b[0m\u001b[1;32m    690\u001b[0m \u001b[0;34m\u001b[0m\u001b[0m\n\u001b[1;32m    691\u001b[0m                 \u001b[0;32mif\u001b[0m \u001b[0mlen\u001b[0m\u001b[0;34m(\u001b[0m\u001b[0mout\u001b[0m\u001b[0;34m)\u001b[0m \u001b[0;34m<\u001b[0m \u001b[0;36m1\u001b[0m\u001b[0;34m:\u001b[0m\u001b[0;34m\u001b[0m\u001b[0;34m\u001b[0m\u001b[0m\n",
            "\u001b[0;32m/usr/local/lib/python3.6/dist-packages/joblib/parallel.py\u001b[0m in \u001b[0;36m__call__\u001b[0;34m(self, iterable)\u001b[0m\n\u001b[1;32m   1015\u001b[0m \u001b[0;34m\u001b[0m\u001b[0m\n\u001b[1;32m   1016\u001b[0m             \u001b[0;32mwith\u001b[0m \u001b[0mself\u001b[0m\u001b[0;34m.\u001b[0m\u001b[0m_backend\u001b[0m\u001b[0;34m.\u001b[0m\u001b[0mretrieval_context\u001b[0m\u001b[0;34m(\u001b[0m\u001b[0;34m)\u001b[0m\u001b[0;34m:\u001b[0m\u001b[0;34m\u001b[0m\u001b[0;34m\u001b[0m\u001b[0m\n\u001b[0;32m-> 1017\u001b[0;31m                 \u001b[0mself\u001b[0m\u001b[0;34m.\u001b[0m\u001b[0mretrieve\u001b[0m\u001b[0;34m(\u001b[0m\u001b[0;34m)\u001b[0m\u001b[0;34m\u001b[0m\u001b[0;34m\u001b[0m\u001b[0m\n\u001b[0m\u001b[1;32m   1018\u001b[0m             \u001b[0;31m# Make sure that we get a last message telling us we are done\u001b[0m\u001b[0;34m\u001b[0m\u001b[0;34m\u001b[0m\u001b[0;34m\u001b[0m\u001b[0m\n\u001b[1;32m   1019\u001b[0m             \u001b[0melapsed_time\u001b[0m \u001b[0;34m=\u001b[0m \u001b[0mtime\u001b[0m\u001b[0;34m.\u001b[0m\u001b[0mtime\u001b[0m\u001b[0;34m(\u001b[0m\u001b[0;34m)\u001b[0m \u001b[0;34m-\u001b[0m \u001b[0mself\u001b[0m\u001b[0;34m.\u001b[0m\u001b[0m_start_time\u001b[0m\u001b[0;34m\u001b[0m\u001b[0;34m\u001b[0m\u001b[0m\n",
            "\u001b[0;32m/usr/local/lib/python3.6/dist-packages/joblib/parallel.py\u001b[0m in \u001b[0;36mretrieve\u001b[0;34m(self)\u001b[0m\n\u001b[1;32m    907\u001b[0m             \u001b[0;32mtry\u001b[0m\u001b[0;34m:\u001b[0m\u001b[0;34m\u001b[0m\u001b[0;34m\u001b[0m\u001b[0m\n\u001b[1;32m    908\u001b[0m                 \u001b[0;32mif\u001b[0m \u001b[0mgetattr\u001b[0m\u001b[0;34m(\u001b[0m\u001b[0mself\u001b[0m\u001b[0;34m.\u001b[0m\u001b[0m_backend\u001b[0m\u001b[0;34m,\u001b[0m \u001b[0;34m'supports_timeout'\u001b[0m\u001b[0;34m,\u001b[0m \u001b[0;32mFalse\u001b[0m\u001b[0;34m)\u001b[0m\u001b[0;34m:\u001b[0m\u001b[0;34m\u001b[0m\u001b[0;34m\u001b[0m\u001b[0m\n\u001b[0;32m--> 909\u001b[0;31m                     \u001b[0mself\u001b[0m\u001b[0;34m.\u001b[0m\u001b[0m_output\u001b[0m\u001b[0;34m.\u001b[0m\u001b[0mextend\u001b[0m\u001b[0;34m(\u001b[0m\u001b[0mjob\u001b[0m\u001b[0;34m.\u001b[0m\u001b[0mget\u001b[0m\u001b[0;34m(\u001b[0m\u001b[0mtimeout\u001b[0m\u001b[0;34m=\u001b[0m\u001b[0mself\u001b[0m\u001b[0;34m.\u001b[0m\u001b[0mtimeout\u001b[0m\u001b[0;34m)\u001b[0m\u001b[0;34m)\u001b[0m\u001b[0;34m\u001b[0m\u001b[0;34m\u001b[0m\u001b[0m\n\u001b[0m\u001b[1;32m    910\u001b[0m                 \u001b[0;32melse\u001b[0m\u001b[0;34m:\u001b[0m\u001b[0;34m\u001b[0m\u001b[0;34m\u001b[0m\u001b[0m\n\u001b[1;32m    911\u001b[0m                     \u001b[0mself\u001b[0m\u001b[0;34m.\u001b[0m\u001b[0m_output\u001b[0m\u001b[0;34m.\u001b[0m\u001b[0mextend\u001b[0m\u001b[0;34m(\u001b[0m\u001b[0mjob\u001b[0m\u001b[0;34m.\u001b[0m\u001b[0mget\u001b[0m\u001b[0;34m(\u001b[0m\u001b[0;34m)\u001b[0m\u001b[0;34m)\u001b[0m\u001b[0;34m\u001b[0m\u001b[0;34m\u001b[0m\u001b[0m\n",
            "\u001b[0;32m/usr/local/lib/python3.6/dist-packages/joblib/_parallel_backends.py\u001b[0m in \u001b[0;36mwrap_future_result\u001b[0;34m(future, timeout)\u001b[0m\n\u001b[1;32m    560\u001b[0m         AsyncResults.get from multiprocessing.\"\"\"\n\u001b[1;32m    561\u001b[0m         \u001b[0;32mtry\u001b[0m\u001b[0;34m:\u001b[0m\u001b[0;34m\u001b[0m\u001b[0;34m\u001b[0m\u001b[0m\n\u001b[0;32m--> 562\u001b[0;31m             \u001b[0;32mreturn\u001b[0m \u001b[0mfuture\u001b[0m\u001b[0;34m.\u001b[0m\u001b[0mresult\u001b[0m\u001b[0;34m(\u001b[0m\u001b[0mtimeout\u001b[0m\u001b[0;34m=\u001b[0m\u001b[0mtimeout\u001b[0m\u001b[0;34m)\u001b[0m\u001b[0;34m\u001b[0m\u001b[0;34m\u001b[0m\u001b[0m\n\u001b[0m\u001b[1;32m    563\u001b[0m         \u001b[0;32mexcept\u001b[0m \u001b[0mLokyTimeoutError\u001b[0m\u001b[0;34m:\u001b[0m\u001b[0;34m\u001b[0m\u001b[0;34m\u001b[0m\u001b[0m\n\u001b[1;32m    564\u001b[0m             \u001b[0;32mraise\u001b[0m \u001b[0mTimeoutError\u001b[0m\u001b[0;34m(\u001b[0m\u001b[0;34m)\u001b[0m\u001b[0;34m\u001b[0m\u001b[0;34m\u001b[0m\u001b[0m\n",
            "\u001b[0;32m/usr/lib/python3.6/concurrent/futures/_base.py\u001b[0m in \u001b[0;36mresult\u001b[0;34m(self, timeout)\u001b[0m\n\u001b[1;32m    425\u001b[0m                 \u001b[0;32mreturn\u001b[0m \u001b[0mself\u001b[0m\u001b[0;34m.\u001b[0m\u001b[0m__get_result\u001b[0m\u001b[0;34m(\u001b[0m\u001b[0;34m)\u001b[0m\u001b[0;34m\u001b[0m\u001b[0;34m\u001b[0m\u001b[0m\n\u001b[1;32m    426\u001b[0m \u001b[0;34m\u001b[0m\u001b[0m\n\u001b[0;32m--> 427\u001b[0;31m             \u001b[0mself\u001b[0m\u001b[0;34m.\u001b[0m\u001b[0m_condition\u001b[0m\u001b[0;34m.\u001b[0m\u001b[0mwait\u001b[0m\u001b[0;34m(\u001b[0m\u001b[0mtimeout\u001b[0m\u001b[0;34m)\u001b[0m\u001b[0;34m\u001b[0m\u001b[0;34m\u001b[0m\u001b[0m\n\u001b[0m\u001b[1;32m    428\u001b[0m \u001b[0;34m\u001b[0m\u001b[0m\n\u001b[1;32m    429\u001b[0m             \u001b[0;32mif\u001b[0m \u001b[0mself\u001b[0m\u001b[0;34m.\u001b[0m\u001b[0m_state\u001b[0m \u001b[0;32min\u001b[0m \u001b[0;34m[\u001b[0m\u001b[0mCANCELLED\u001b[0m\u001b[0;34m,\u001b[0m \u001b[0mCANCELLED_AND_NOTIFIED\u001b[0m\u001b[0;34m]\u001b[0m\u001b[0;34m:\u001b[0m\u001b[0;34m\u001b[0m\u001b[0;34m\u001b[0m\u001b[0m\n",
            "\u001b[0;32m/usr/lib/python3.6/threading.py\u001b[0m in \u001b[0;36mwait\u001b[0;34m(self, timeout)\u001b[0m\n\u001b[1;32m    293\u001b[0m         \u001b[0;32mtry\u001b[0m\u001b[0;34m:\u001b[0m    \u001b[0;31m# restore state no matter what (e.g., KeyboardInterrupt)\u001b[0m\u001b[0;34m\u001b[0m\u001b[0;34m\u001b[0m\u001b[0m\n\u001b[1;32m    294\u001b[0m             \u001b[0;32mif\u001b[0m \u001b[0mtimeout\u001b[0m \u001b[0;32mis\u001b[0m \u001b[0;32mNone\u001b[0m\u001b[0;34m:\u001b[0m\u001b[0;34m\u001b[0m\u001b[0;34m\u001b[0m\u001b[0m\n\u001b[0;32m--> 295\u001b[0;31m                 \u001b[0mwaiter\u001b[0m\u001b[0;34m.\u001b[0m\u001b[0macquire\u001b[0m\u001b[0;34m(\u001b[0m\u001b[0;34m)\u001b[0m\u001b[0;34m\u001b[0m\u001b[0;34m\u001b[0m\u001b[0m\n\u001b[0m\u001b[1;32m    296\u001b[0m                 \u001b[0mgotit\u001b[0m \u001b[0;34m=\u001b[0m \u001b[0;32mTrue\u001b[0m\u001b[0;34m\u001b[0m\u001b[0;34m\u001b[0m\u001b[0m\n\u001b[1;32m    297\u001b[0m             \u001b[0;32melse\u001b[0m\u001b[0;34m:\u001b[0m\u001b[0;34m\u001b[0m\u001b[0;34m\u001b[0m\u001b[0m\n",
            "\u001b[0;31mKeyboardInterrupt\u001b[0m: "
          ]
        }
      ]
    },
    {
      "cell_type": "markdown",
      "metadata": {
        "id": "wE1FRA0Go1fc"
      },
      "source": [
        "### DTR\n"
      ]
    },
    {
      "cell_type": "code",
      "metadata": {
        "id": "X2BYa_qvaiCG",
        "outputId": "e676c13c-6bbe-4073-a501-a5a14c504461",
        "colab": {
          "base_uri": "https://localhost:8080/",
          "height": 275
        }
      },
      "source": [
        "%%time\n",
        "regressor = DecisionTreeRegressor()\n",
        "params = {'regressor__criterion': ('mse', 'friedman_mse', 'mae'), 'regressor__splitter': ('best', 'random')}\n",
        "# Best Params:{'regressor__criterion': 'mae', 'regressor__splitter': 'best'}\n",
        "# params = None\n",
        "train_model(results, regressor, params)"
      ],
      "execution_count": null,
      "outputs": [
        {
          "output_type": "stream",
          "text": [
            "/usr/local/lib/python3.6/dist-packages/sklearn/model_selection/_search.py:823: FutureWarning: The parameter 'iid' is deprecated in 0.22 and will be removed in 0.24.\n",
            "  \"removed in 0.24.\", FutureWarning\n"
          ],
          "name": "stderr"
        },
        {
          "output_type": "stream",
          "text": [
            "[Pipeline] ...... (step 1 of 2) Processing preprocessor, total=   1.7s\n",
            "[Pipeline] ......... (step 2 of 2) Processing regressor, total= 2.1min\n",
            "model score: 0.967\n",
            "Best Params:{'regressor__criterion': 'mae', 'regressor__splitter': 'best'}\n",
            "Best Score:0.117\n",
            "[Pipeline] ...... (step 1 of 2) Processing preprocessor, total=   0.6s\n",
            "[Pipeline] ......... (step 2 of 2) Processing regressor, total=   2.0s\n",
            "X_train.shape:\t(32097, 16)\n",
            "X_test.shape:\t(15810, 16)\n",
            "MAE = \t122983.1665\n",
            "CPU times: user 2min 13s, sys: 161 ms, total: 2min 13s\n",
            "Wall time: 6min 3s\n"
          ],
          "name": "stdout"
        }
      ]
    },
    {
      "cell_type": "markdown",
      "metadata": {
        "id": "4jaf3XtVo5Ws"
      },
      "source": [
        "### SVR\n"
      ]
    },
    {
      "cell_type": "code",
      "metadata": {
        "id": "yKlRYyryaj9-",
        "outputId": "1ea234ee-e833-4024-bfa4-60669986b798",
        "colab": {
          "base_uri": "https://localhost:8080/",
          "height": 564
        }
      },
      "source": [
        "%%time\n",
        "# SVR\n",
        "regressor = SVR(gamma='auto')\n",
        "# params = {'kernel': ['linear', 'poly', 'rbf'], 'C': [0.01, 0.1, 1, 5, 10]}\n",
        "params = {'regressor__kernel': ['linear', 'poly', 'rbf']}\n",
        "# params = None\n",
        "train_model(results, regressor, params, verbose=10)\n",
        "# train_model(results, regressor)"
      ],
      "execution_count": null,
      "outputs": [
        {
          "output_type": "stream",
          "text": [
            "Fitting 3 folds for each of 3 candidates, totalling 9 fits\n"
          ],
          "name": "stdout"
        },
        {
          "output_type": "stream",
          "text": [
            "[Parallel(n_jobs=-1)]: Using backend LokyBackend with 4 concurrent workers.\n",
            "/usr/local/lib/python3.6/dist-packages/joblib/externals/loky/process_executor.py:706: UserWarning: A worker stopped while some jobs were given to the executor. This can be caused by a too short worker timeout or by a memory leak.\n",
            "  \"timeout or by a memory leak.\", UserWarning\n",
            "[Parallel(n_jobs=-1)]: Done   3 out of   9 | elapsed:  2.1min remaining:  4.1min\n",
            "[Parallel(n_jobs=-1)]: Done   4 out of   9 | elapsed:  2.2min remaining:  2.7min\n",
            "[Parallel(n_jobs=-1)]: Done   5 out of   9 | elapsed:  3.8min remaining:  3.1min\n",
            "[Parallel(n_jobs=-1)]: Done   6 out of   9 | elapsed:  3.8min remaining:  1.9min\n",
            "[Parallel(n_jobs=-1)]: Done   7 out of   9 | elapsed:  3.8min remaining:  1.1min\n",
            "[Parallel(n_jobs=-1)]: Done   9 out of   9 | elapsed:  3.8min remaining:    0.0s\n"
          ],
          "name": "stderr"
        },
        {
          "output_type": "error",
          "ename": "KeyboardInterrupt",
          "evalue": "ignored",
          "traceback": [
            "\u001b[0;31m---------------------------------------------------------------------------\u001b[0m",
            "\u001b[0;31mKeyboardInterrupt\u001b[0m                         Traceback (most recent call last)",
            "\u001b[0;32m<ipython-input-92-29882435c210>\u001b[0m in \u001b[0;36m<module>\u001b[0;34m()\u001b[0m\n\u001b[0;32m----> 1\u001b[0;31m \u001b[0mget_ipython\u001b[0m\u001b[0;34m(\u001b[0m\u001b[0;34m)\u001b[0m\u001b[0;34m.\u001b[0m\u001b[0mrun_cell_magic\u001b[0m\u001b[0;34m(\u001b[0m\u001b[0;34m'time'\u001b[0m\u001b[0;34m,\u001b[0m \u001b[0;34m''\u001b[0m\u001b[0;34m,\u001b[0m \u001b[0;34m\"# SVR\\nregressor = SVR(gamma='auto')\\n# params = {'kernel': ['linear', 'poly', 'rbf'], 'C': [0.01, 0.1, 1, 5, 10]}\\nparams = {'regressor__kernel': ['linear', 'poly', 'rbf']}\\n# params = None\\ntrain_model(results, regressor, params, verbose=10)\\n# train_model(results, regressor)\"\u001b[0m\u001b[0;34m)\u001b[0m\u001b[0;34m\u001b[0m\u001b[0;34m\u001b[0m\u001b[0m\n\u001b[0m",
            "\u001b[0;32m/usr/local/lib/python3.6/dist-packages/IPython/core/interactiveshell.py\u001b[0m in \u001b[0;36mrun_cell_magic\u001b[0;34m(self, magic_name, line, cell)\u001b[0m\n\u001b[1;32m   2115\u001b[0m             \u001b[0mmagic_arg_s\u001b[0m \u001b[0;34m=\u001b[0m \u001b[0mself\u001b[0m\u001b[0;34m.\u001b[0m\u001b[0mvar_expand\u001b[0m\u001b[0;34m(\u001b[0m\u001b[0mline\u001b[0m\u001b[0;34m,\u001b[0m \u001b[0mstack_depth\u001b[0m\u001b[0;34m)\u001b[0m\u001b[0;34m\u001b[0m\u001b[0;34m\u001b[0m\u001b[0m\n\u001b[1;32m   2116\u001b[0m             \u001b[0;32mwith\u001b[0m \u001b[0mself\u001b[0m\u001b[0;34m.\u001b[0m\u001b[0mbuiltin_trap\u001b[0m\u001b[0;34m:\u001b[0m\u001b[0;34m\u001b[0m\u001b[0;34m\u001b[0m\u001b[0m\n\u001b[0;32m-> 2117\u001b[0;31m                 \u001b[0mresult\u001b[0m \u001b[0;34m=\u001b[0m \u001b[0mfn\u001b[0m\u001b[0;34m(\u001b[0m\u001b[0mmagic_arg_s\u001b[0m\u001b[0;34m,\u001b[0m \u001b[0mcell\u001b[0m\u001b[0;34m)\u001b[0m\u001b[0;34m\u001b[0m\u001b[0;34m\u001b[0m\u001b[0m\n\u001b[0m\u001b[1;32m   2118\u001b[0m             \u001b[0;32mreturn\u001b[0m \u001b[0mresult\u001b[0m\u001b[0;34m\u001b[0m\u001b[0;34m\u001b[0m\u001b[0m\n\u001b[1;32m   2119\u001b[0m \u001b[0;34m\u001b[0m\u001b[0m\n",
            "\u001b[0;32m</usr/local/lib/python3.6/dist-packages/decorator.py:decorator-gen-60>\u001b[0m in \u001b[0;36mtime\u001b[0;34m(self, line, cell, local_ns)\u001b[0m\n",
            "\u001b[0;32m/usr/local/lib/python3.6/dist-packages/IPython/core/magic.py\u001b[0m in \u001b[0;36m<lambda>\u001b[0;34m(f, *a, **k)\u001b[0m\n\u001b[1;32m    186\u001b[0m     \u001b[0;31m# but it's overkill for just that one bit of state.\u001b[0m\u001b[0;34m\u001b[0m\u001b[0;34m\u001b[0m\u001b[0;34m\u001b[0m\u001b[0m\n\u001b[1;32m    187\u001b[0m     \u001b[0;32mdef\u001b[0m \u001b[0mmagic_deco\u001b[0m\u001b[0;34m(\u001b[0m\u001b[0marg\u001b[0m\u001b[0;34m)\u001b[0m\u001b[0;34m:\u001b[0m\u001b[0;34m\u001b[0m\u001b[0;34m\u001b[0m\u001b[0m\n\u001b[0;32m--> 188\u001b[0;31m         \u001b[0mcall\u001b[0m \u001b[0;34m=\u001b[0m \u001b[0;32mlambda\u001b[0m \u001b[0mf\u001b[0m\u001b[0;34m,\u001b[0m \u001b[0;34m*\u001b[0m\u001b[0ma\u001b[0m\u001b[0;34m,\u001b[0m \u001b[0;34m**\u001b[0m\u001b[0mk\u001b[0m\u001b[0;34m:\u001b[0m \u001b[0mf\u001b[0m\u001b[0;34m(\u001b[0m\u001b[0;34m*\u001b[0m\u001b[0ma\u001b[0m\u001b[0;34m,\u001b[0m \u001b[0;34m**\u001b[0m\u001b[0mk\u001b[0m\u001b[0;34m)\u001b[0m\u001b[0;34m\u001b[0m\u001b[0;34m\u001b[0m\u001b[0m\n\u001b[0m\u001b[1;32m    189\u001b[0m \u001b[0;34m\u001b[0m\u001b[0m\n\u001b[1;32m    190\u001b[0m         \u001b[0;32mif\u001b[0m \u001b[0mcallable\u001b[0m\u001b[0;34m(\u001b[0m\u001b[0marg\u001b[0m\u001b[0;34m)\u001b[0m\u001b[0;34m:\u001b[0m\u001b[0;34m\u001b[0m\u001b[0;34m\u001b[0m\u001b[0m\n",
            "\u001b[0;32m/usr/local/lib/python3.6/dist-packages/IPython/core/magics/execution.py\u001b[0m in \u001b[0;36mtime\u001b[0;34m(self, line, cell, local_ns)\u001b[0m\n\u001b[1;32m   1191\u001b[0m         \u001b[0;32melse\u001b[0m\u001b[0;34m:\u001b[0m\u001b[0;34m\u001b[0m\u001b[0;34m\u001b[0m\u001b[0m\n\u001b[1;32m   1192\u001b[0m             \u001b[0mst\u001b[0m \u001b[0;34m=\u001b[0m \u001b[0mclock2\u001b[0m\u001b[0;34m(\u001b[0m\u001b[0;34m)\u001b[0m\u001b[0;34m\u001b[0m\u001b[0;34m\u001b[0m\u001b[0m\n\u001b[0;32m-> 1193\u001b[0;31m             \u001b[0mexec\u001b[0m\u001b[0;34m(\u001b[0m\u001b[0mcode\u001b[0m\u001b[0;34m,\u001b[0m \u001b[0mglob\u001b[0m\u001b[0;34m,\u001b[0m \u001b[0mlocal_ns\u001b[0m\u001b[0;34m)\u001b[0m\u001b[0;34m\u001b[0m\u001b[0;34m\u001b[0m\u001b[0m\n\u001b[0m\u001b[1;32m   1194\u001b[0m             \u001b[0mend\u001b[0m \u001b[0;34m=\u001b[0m \u001b[0mclock2\u001b[0m\u001b[0;34m(\u001b[0m\u001b[0;34m)\u001b[0m\u001b[0;34m\u001b[0m\u001b[0;34m\u001b[0m\u001b[0m\n\u001b[1;32m   1195\u001b[0m             \u001b[0mout\u001b[0m \u001b[0;34m=\u001b[0m \u001b[0;32mNone\u001b[0m\u001b[0;34m\u001b[0m\u001b[0;34m\u001b[0m\u001b[0m\n",
            "\u001b[0;32m<timed exec>\u001b[0m in \u001b[0;36m<module>\u001b[0;34m()\u001b[0m\n",
            "\u001b[0;32m<ipython-input-88-f8f4b5384286>\u001b[0m in \u001b[0;36mtrain_model\u001b[0;34m(dataset, model, params, verbose)\u001b[0m\n\u001b[1;32m     35\u001b[0m         \u001b[0;32mif\u001b[0m \u001b[0mparams\u001b[0m\u001b[0;34m:\u001b[0m\u001b[0;34m\u001b[0m\u001b[0;34m\u001b[0m\u001b[0m\n\u001b[1;32m     36\u001b[0m                 \u001b[0mmodel\u001b[0m \u001b[0;34m=\u001b[0m \u001b[0mGridSearchCV\u001b[0m\u001b[0;34m(\u001b[0m\u001b[0mpipe\u001b[0m\u001b[0;34m,\u001b[0m \u001b[0mparams\u001b[0m\u001b[0;34m,\u001b[0m \u001b[0mcv\u001b[0m\u001b[0;34m=\u001b[0m\u001b[0;36m3\u001b[0m\u001b[0;34m,\u001b[0m \u001b[0miid\u001b[0m\u001b[0;34m=\u001b[0m\u001b[0;32mFalse\u001b[0m\u001b[0;34m,\u001b[0m \u001b[0mn_jobs\u001b[0m\u001b[0;34m=\u001b[0m\u001b[0;34m-\u001b[0m\u001b[0;36m1\u001b[0m\u001b[0;34m,\u001b[0m \u001b[0mverbose\u001b[0m\u001b[0;34m=\u001b[0m\u001b[0mverbose\u001b[0m\u001b[0;34m)\u001b[0m\u001b[0;34m\u001b[0m\u001b[0;34m\u001b[0m\u001b[0m\n\u001b[0;32m---> 37\u001b[0;31m                 \u001b[0mmodel\u001b[0m\u001b[0;34m.\u001b[0m\u001b[0mfit\u001b[0m\u001b[0;34m(\u001b[0m\u001b[0mX\u001b[0m\u001b[0;34m,\u001b[0m \u001b[0my\u001b[0m\u001b[0;34m)\u001b[0m\u001b[0;34m\u001b[0m\u001b[0;34m\u001b[0m\u001b[0m\n\u001b[0m\u001b[1;32m     38\u001b[0m                 \u001b[0mprint\u001b[0m\u001b[0;34m(\u001b[0m\u001b[0;34m\"model score: {:.3}\"\u001b[0m\u001b[0;34m.\u001b[0m\u001b[0mformat\u001b[0m\u001b[0;34m(\u001b[0m\u001b[0mmodel\u001b[0m\u001b[0;34m.\u001b[0m\u001b[0mscore\u001b[0m\u001b[0;34m(\u001b[0m\u001b[0mX_test\u001b[0m\u001b[0;34m,\u001b[0m \u001b[0my_test\u001b[0m\u001b[0;34m)\u001b[0m\u001b[0;34m)\u001b[0m\u001b[0;34m)\u001b[0m\u001b[0;34m\u001b[0m\u001b[0;34m\u001b[0m\u001b[0m\n\u001b[1;32m     39\u001b[0m                 \u001b[0mprint\u001b[0m\u001b[0;34m(\u001b[0m\u001b[0;34m'Best Params:{}'\u001b[0m\u001b[0;34m.\u001b[0m\u001b[0mformat\u001b[0m\u001b[0;34m(\u001b[0m\u001b[0mmodel\u001b[0m\u001b[0;34m.\u001b[0m\u001b[0mbest_params_\u001b[0m\u001b[0;34m)\u001b[0m\u001b[0;34m)\u001b[0m\u001b[0;34m\u001b[0m\u001b[0;34m\u001b[0m\u001b[0m\n",
            "\u001b[0;32m/usr/local/lib/python3.6/dist-packages/sklearn/model_selection/_search.py\u001b[0m in \u001b[0;36mfit\u001b[0;34m(self, X, y, groups, **fit_params)\u001b[0m\n\u001b[1;32m    708\u001b[0m                 \u001b[0;32mreturn\u001b[0m \u001b[0mresults\u001b[0m\u001b[0;34m\u001b[0m\u001b[0;34m\u001b[0m\u001b[0m\n\u001b[1;32m    709\u001b[0m \u001b[0;34m\u001b[0m\u001b[0m\n\u001b[0;32m--> 710\u001b[0;31m             \u001b[0mself\u001b[0m\u001b[0;34m.\u001b[0m\u001b[0m_run_search\u001b[0m\u001b[0;34m(\u001b[0m\u001b[0mevaluate_candidates\u001b[0m\u001b[0;34m)\u001b[0m\u001b[0;34m\u001b[0m\u001b[0;34m\u001b[0m\u001b[0m\n\u001b[0m\u001b[1;32m    711\u001b[0m \u001b[0;34m\u001b[0m\u001b[0m\n\u001b[1;32m    712\u001b[0m         \u001b[0;31m# For multi-metric evaluation, store the best_index_, best_params_ and\u001b[0m\u001b[0;34m\u001b[0m\u001b[0;34m\u001b[0m\u001b[0;34m\u001b[0m\u001b[0m\n",
            "\u001b[0;32m/usr/local/lib/python3.6/dist-packages/sklearn/model_selection/_search.py\u001b[0m in \u001b[0;36m_run_search\u001b[0;34m(self, evaluate_candidates)\u001b[0m\n\u001b[1;32m   1149\u001b[0m     \u001b[0;32mdef\u001b[0m \u001b[0m_run_search\u001b[0m\u001b[0;34m(\u001b[0m\u001b[0mself\u001b[0m\u001b[0;34m,\u001b[0m \u001b[0mevaluate_candidates\u001b[0m\u001b[0;34m)\u001b[0m\u001b[0;34m:\u001b[0m\u001b[0;34m\u001b[0m\u001b[0;34m\u001b[0m\u001b[0m\n\u001b[1;32m   1150\u001b[0m         \u001b[0;34m\"\"\"Search all candidates in param_grid\"\"\"\u001b[0m\u001b[0;34m\u001b[0m\u001b[0;34m\u001b[0m\u001b[0m\n\u001b[0;32m-> 1151\u001b[0;31m         \u001b[0mevaluate_candidates\u001b[0m\u001b[0;34m(\u001b[0m\u001b[0mParameterGrid\u001b[0m\u001b[0;34m(\u001b[0m\u001b[0mself\u001b[0m\u001b[0;34m.\u001b[0m\u001b[0mparam_grid\u001b[0m\u001b[0;34m)\u001b[0m\u001b[0;34m)\u001b[0m\u001b[0;34m\u001b[0m\u001b[0;34m\u001b[0m\u001b[0m\n\u001b[0m\u001b[1;32m   1152\u001b[0m \u001b[0;34m\u001b[0m\u001b[0m\n\u001b[1;32m   1153\u001b[0m \u001b[0;34m\u001b[0m\u001b[0m\n",
            "\u001b[0;32m/usr/local/lib/python3.6/dist-packages/sklearn/model_selection/_search.py\u001b[0m in \u001b[0;36mevaluate_candidates\u001b[0;34m(candidate_params)\u001b[0m\n\u001b[1;32m    687\u001b[0m                                \u001b[0;32mfor\u001b[0m \u001b[0mparameters\u001b[0m\u001b[0;34m,\u001b[0m \u001b[0;34m(\u001b[0m\u001b[0mtrain\u001b[0m\u001b[0;34m,\u001b[0m \u001b[0mtest\u001b[0m\u001b[0;34m)\u001b[0m\u001b[0;34m\u001b[0m\u001b[0;34m\u001b[0m\u001b[0m\n\u001b[1;32m    688\u001b[0m                                in product(candidate_params,\n\u001b[0;32m--> 689\u001b[0;31m                                           cv.split(X, y, groups)))\n\u001b[0m\u001b[1;32m    690\u001b[0m \u001b[0;34m\u001b[0m\u001b[0m\n\u001b[1;32m    691\u001b[0m                 \u001b[0;32mif\u001b[0m \u001b[0mlen\u001b[0m\u001b[0;34m(\u001b[0m\u001b[0mout\u001b[0m\u001b[0;34m)\u001b[0m \u001b[0;34m<\u001b[0m \u001b[0;36m1\u001b[0m\u001b[0;34m:\u001b[0m\u001b[0;34m\u001b[0m\u001b[0;34m\u001b[0m\u001b[0m\n",
            "\u001b[0;32m/usr/local/lib/python3.6/dist-packages/joblib/parallel.py\u001b[0m in \u001b[0;36m__call__\u001b[0;34m(self, iterable)\u001b[0m\n\u001b[1;32m   1015\u001b[0m \u001b[0;34m\u001b[0m\u001b[0m\n\u001b[1;32m   1016\u001b[0m             \u001b[0;32mwith\u001b[0m \u001b[0mself\u001b[0m\u001b[0;34m.\u001b[0m\u001b[0m_backend\u001b[0m\u001b[0;34m.\u001b[0m\u001b[0mretrieval_context\u001b[0m\u001b[0;34m(\u001b[0m\u001b[0;34m)\u001b[0m\u001b[0;34m:\u001b[0m\u001b[0;34m\u001b[0m\u001b[0;34m\u001b[0m\u001b[0m\n\u001b[0;32m-> 1017\u001b[0;31m                 \u001b[0mself\u001b[0m\u001b[0;34m.\u001b[0m\u001b[0mretrieve\u001b[0m\u001b[0;34m(\u001b[0m\u001b[0;34m)\u001b[0m\u001b[0;34m\u001b[0m\u001b[0;34m\u001b[0m\u001b[0m\n\u001b[0m\u001b[1;32m   1018\u001b[0m             \u001b[0;31m# Make sure that we get a last message telling us we are done\u001b[0m\u001b[0;34m\u001b[0m\u001b[0;34m\u001b[0m\u001b[0;34m\u001b[0m\u001b[0m\n\u001b[1;32m   1019\u001b[0m             \u001b[0melapsed_time\u001b[0m \u001b[0;34m=\u001b[0m \u001b[0mtime\u001b[0m\u001b[0;34m.\u001b[0m\u001b[0mtime\u001b[0m\u001b[0;34m(\u001b[0m\u001b[0;34m)\u001b[0m \u001b[0;34m-\u001b[0m \u001b[0mself\u001b[0m\u001b[0;34m.\u001b[0m\u001b[0m_start_time\u001b[0m\u001b[0;34m\u001b[0m\u001b[0;34m\u001b[0m\u001b[0m\n",
            "\u001b[0;32m/usr/local/lib/python3.6/dist-packages/joblib/parallel.py\u001b[0m in \u001b[0;36mretrieve\u001b[0;34m(self)\u001b[0m\n\u001b[1;32m    907\u001b[0m             \u001b[0;32mtry\u001b[0m\u001b[0;34m:\u001b[0m\u001b[0;34m\u001b[0m\u001b[0;34m\u001b[0m\u001b[0m\n\u001b[1;32m    908\u001b[0m                 \u001b[0;32mif\u001b[0m \u001b[0mgetattr\u001b[0m\u001b[0;34m(\u001b[0m\u001b[0mself\u001b[0m\u001b[0;34m.\u001b[0m\u001b[0m_backend\u001b[0m\u001b[0;34m,\u001b[0m \u001b[0;34m'supports_timeout'\u001b[0m\u001b[0;34m,\u001b[0m \u001b[0;32mFalse\u001b[0m\u001b[0;34m)\u001b[0m\u001b[0;34m:\u001b[0m\u001b[0;34m\u001b[0m\u001b[0;34m\u001b[0m\u001b[0m\n\u001b[0;32m--> 909\u001b[0;31m                     \u001b[0mself\u001b[0m\u001b[0;34m.\u001b[0m\u001b[0m_output\u001b[0m\u001b[0;34m.\u001b[0m\u001b[0mextend\u001b[0m\u001b[0;34m(\u001b[0m\u001b[0mjob\u001b[0m\u001b[0;34m.\u001b[0m\u001b[0mget\u001b[0m\u001b[0;34m(\u001b[0m\u001b[0mtimeout\u001b[0m\u001b[0;34m=\u001b[0m\u001b[0mself\u001b[0m\u001b[0;34m.\u001b[0m\u001b[0mtimeout\u001b[0m\u001b[0;34m)\u001b[0m\u001b[0;34m)\u001b[0m\u001b[0;34m\u001b[0m\u001b[0;34m\u001b[0m\u001b[0m\n\u001b[0m\u001b[1;32m    910\u001b[0m                 \u001b[0;32melse\u001b[0m\u001b[0;34m:\u001b[0m\u001b[0;34m\u001b[0m\u001b[0;34m\u001b[0m\u001b[0m\n\u001b[1;32m    911\u001b[0m                     \u001b[0mself\u001b[0m\u001b[0;34m.\u001b[0m\u001b[0m_output\u001b[0m\u001b[0;34m.\u001b[0m\u001b[0mextend\u001b[0m\u001b[0;34m(\u001b[0m\u001b[0mjob\u001b[0m\u001b[0;34m.\u001b[0m\u001b[0mget\u001b[0m\u001b[0;34m(\u001b[0m\u001b[0;34m)\u001b[0m\u001b[0;34m)\u001b[0m\u001b[0;34m\u001b[0m\u001b[0;34m\u001b[0m\u001b[0m\n",
            "\u001b[0;32m/usr/local/lib/python3.6/dist-packages/joblib/_parallel_backends.py\u001b[0m in \u001b[0;36mwrap_future_result\u001b[0;34m(future, timeout)\u001b[0m\n\u001b[1;32m    560\u001b[0m         AsyncResults.get from multiprocessing.\"\"\"\n\u001b[1;32m    561\u001b[0m         \u001b[0;32mtry\u001b[0m\u001b[0;34m:\u001b[0m\u001b[0;34m\u001b[0m\u001b[0;34m\u001b[0m\u001b[0m\n\u001b[0;32m--> 562\u001b[0;31m             \u001b[0;32mreturn\u001b[0m \u001b[0mfuture\u001b[0m\u001b[0;34m.\u001b[0m\u001b[0mresult\u001b[0m\u001b[0;34m(\u001b[0m\u001b[0mtimeout\u001b[0m\u001b[0;34m=\u001b[0m\u001b[0mtimeout\u001b[0m\u001b[0;34m)\u001b[0m\u001b[0;34m\u001b[0m\u001b[0;34m\u001b[0m\u001b[0m\n\u001b[0m\u001b[1;32m    563\u001b[0m         \u001b[0;32mexcept\u001b[0m \u001b[0mLokyTimeoutError\u001b[0m\u001b[0;34m:\u001b[0m\u001b[0;34m\u001b[0m\u001b[0;34m\u001b[0m\u001b[0m\n\u001b[1;32m    564\u001b[0m             \u001b[0;32mraise\u001b[0m \u001b[0mTimeoutError\u001b[0m\u001b[0;34m(\u001b[0m\u001b[0;34m)\u001b[0m\u001b[0;34m\u001b[0m\u001b[0;34m\u001b[0m\u001b[0m\n",
            "\u001b[0;32m/usr/lib/python3.6/concurrent/futures/_base.py\u001b[0m in \u001b[0;36mresult\u001b[0;34m(self, timeout)\u001b[0m\n\u001b[1;32m    425\u001b[0m                 \u001b[0;32mreturn\u001b[0m \u001b[0mself\u001b[0m\u001b[0;34m.\u001b[0m\u001b[0m__get_result\u001b[0m\u001b[0;34m(\u001b[0m\u001b[0;34m)\u001b[0m\u001b[0;34m\u001b[0m\u001b[0;34m\u001b[0m\u001b[0m\n\u001b[1;32m    426\u001b[0m \u001b[0;34m\u001b[0m\u001b[0m\n\u001b[0;32m--> 427\u001b[0;31m             \u001b[0mself\u001b[0m\u001b[0;34m.\u001b[0m\u001b[0m_condition\u001b[0m\u001b[0;34m.\u001b[0m\u001b[0mwait\u001b[0m\u001b[0;34m(\u001b[0m\u001b[0mtimeout\u001b[0m\u001b[0;34m)\u001b[0m\u001b[0;34m\u001b[0m\u001b[0;34m\u001b[0m\u001b[0m\n\u001b[0m\u001b[1;32m    428\u001b[0m \u001b[0;34m\u001b[0m\u001b[0m\n\u001b[1;32m    429\u001b[0m             \u001b[0;32mif\u001b[0m \u001b[0mself\u001b[0m\u001b[0;34m.\u001b[0m\u001b[0m_state\u001b[0m \u001b[0;32min\u001b[0m \u001b[0;34m[\u001b[0m\u001b[0mCANCELLED\u001b[0m\u001b[0;34m,\u001b[0m \u001b[0mCANCELLED_AND_NOTIFIED\u001b[0m\u001b[0;34m]\u001b[0m\u001b[0;34m:\u001b[0m\u001b[0;34m\u001b[0m\u001b[0;34m\u001b[0m\u001b[0m\n",
            "\u001b[0;32m/usr/lib/python3.6/threading.py\u001b[0m in \u001b[0;36mwait\u001b[0;34m(self, timeout)\u001b[0m\n\u001b[1;32m    293\u001b[0m         \u001b[0;32mtry\u001b[0m\u001b[0;34m:\u001b[0m    \u001b[0;31m# restore state no matter what (e.g., KeyboardInterrupt)\u001b[0m\u001b[0;34m\u001b[0m\u001b[0;34m\u001b[0m\u001b[0m\n\u001b[1;32m    294\u001b[0m             \u001b[0;32mif\u001b[0m \u001b[0mtimeout\u001b[0m \u001b[0;32mis\u001b[0m \u001b[0;32mNone\u001b[0m\u001b[0;34m:\u001b[0m\u001b[0;34m\u001b[0m\u001b[0;34m\u001b[0m\u001b[0m\n\u001b[0;32m--> 295\u001b[0;31m                 \u001b[0mwaiter\u001b[0m\u001b[0;34m.\u001b[0m\u001b[0macquire\u001b[0m\u001b[0;34m(\u001b[0m\u001b[0;34m)\u001b[0m\u001b[0;34m\u001b[0m\u001b[0;34m\u001b[0m\u001b[0m\n\u001b[0m\u001b[1;32m    296\u001b[0m                 \u001b[0mgotit\u001b[0m \u001b[0;34m=\u001b[0m \u001b[0;32mTrue\u001b[0m\u001b[0;34m\u001b[0m\u001b[0;34m\u001b[0m\u001b[0m\n\u001b[1;32m    297\u001b[0m             \u001b[0;32melse\u001b[0m\u001b[0;34m:\u001b[0m\u001b[0;34m\u001b[0m\u001b[0;34m\u001b[0m\u001b[0m\n",
            "\u001b[0;31mKeyboardInterrupt\u001b[0m: "
          ]
        }
      ]
    },
    {
      "cell_type": "markdown",
      "metadata": {
        "id": "ajZOKg1orDHs"
      },
      "source": [
        "### GBoostRegressor\n"
      ]
    },
    {
      "cell_type": "code",
      "metadata": {
        "id": "tNwET7rGb59H",
        "outputId": "7b008c01-fb6b-4a44-c5a1-e176d4a33965",
        "colab": {
          "base_uri": "https://localhost:8080/",
          "height": 136
        }
      },
      "source": [
        "%%time\n",
        "regressor = GradientBoostingRegressor()\n",
        "# regressor = GradientBoostingRegressor(\n",
        "#         learning_rate = 0.1,\n",
        "#         max_depth = 6,\n",
        "#         max_features = 0.3,\n",
        "#         min_samples_leaf = 9,\n",
        "#         n_estimators = 100\n",
        "#     )\n",
        "params = None\n",
        "# Best Params:{'regressor__learning_rate': 0.1, 'regressor__max_depth': 6, 'regressor__max_features': 0.3, 'regressor__min_samples_leaf': 3, 'regressor__n_estimators': 100}\n",
        "# params = {\n",
        "#             'regressor__n_estimators':[100],\n",
        "#             'regressor__learning_rate': [0.1, 0.05, 0.02, 0.01],\n",
        "#             'regressor__max_depth':[4,6],\n",
        "#             'regressor__min_samples_leaf':[3,5,9,17],\n",
        "#             'regressor__max_features':[1.0,0.3,0.1]\n",
        "#         }\n",
        "\n",
        "train_model(results, regressor, params)"
      ],
      "execution_count": null,
      "outputs": [
        {
          "output_type": "stream",
          "text": [
            "[Pipeline] ...... (step 1 of 2) Processing preprocessor, total=   0.0s\n",
            "[Pipeline] ......... (step 2 of 2) Processing regressor, total=   0.7s\n",
            "X_train.shape:\t(5955, 16)\n",
            "X_test.shape:\t(2934, 16)\n",
            "MAE = \t98732.51675\n",
            "CPU times: user 760 ms, sys: 4.14 ms, total: 764 ms\n",
            "Wall time: 768 ms\n"
          ],
          "name": "stdout"
        }
      ]
    },
    {
      "cell_type": "code",
      "metadata": {
        "id": "Vh720sqlXZMc",
        "outputId": "eaafae4e-2a29-4aff-dbb1-62bd7186f5a5",
        "colab": {
          "base_uri": "https://localhost:8080/",
          "height": 34
        }
      },
      "source": [
        "mean_absolute_error(results['zestiamte'], results['sold_price'])"
      ],
      "execution_count": null,
      "outputs": [
        {
          "output_type": "execute_result",
          "data": {
            "text/plain": [
              "33791.5987109905"
            ]
          },
          "metadata": {
            "tags": []
          },
          "execution_count": 103
        }
      ]
    },
    {
      "cell_type": "markdown",
      "metadata": {
        "id": "xoCRgRIhBav8"
      },
      "source": [
        "### AdaBoost"
      ]
    },
    {
      "cell_type": "code",
      "metadata": {
        "id": "WW2hFT2OBaIr",
        "outputId": "7cef3d77-fb80-4273-b069-fd54ca1cb814",
        "colab": {
          "base_uri": "https://localhost:8080/",
          "height": 819
        }
      },
      "source": [
        "from sklearn.ensemble import AdaBoostRegressor\n",
        "regressor = AdaBoostRegressor(GradientBoostingRegressor())\n",
        "# regressor = AdaBoostRegressor(base_estimator=GradientBoostingRegressor(\n",
        "#         learning_rate = 0.1,\n",
        "#         max_depth = 6,\n",
        "#         max_features = 0.3,\n",
        "#         min_samples_leaf = 9,\n",
        "#         n_estimators = 100\n",
        "#     ))\n",
        "params = None\n",
        "params = {\n",
        "            # 'regressor__n_estimators':[50],\n",
        "            # 'regressor__learning_rate': [1, 0.5, 0.02],\n",
        "            'regressor__loss':['linear', 'square', 'exponential'],\n",
        "        }\n",
        "# Best Params:{'regressor__loss': 'linear'}\n",
        "train_model(results, regressor, params)"
      ],
      "execution_count": null,
      "outputs": [
        {
          "output_type": "stream",
          "text": [
            "/usr/local/lib/python3.6/dist-packages/sklearn/model_selection/_search.py:823: FutureWarning: The parameter 'iid' is deprecated in 0.22 and will be removed in 0.24.\n",
            "  \"removed in 0.24.\", FutureWarning\n"
          ],
          "name": "stderr"
        },
        {
          "output_type": "stream",
          "text": [
            "[Pipeline] ...... (step 1 of 2) Processing preprocessor, total=   1.7s\n",
            "[Pipeline] ......... (step 2 of 2) Processing regressor, total= 1.3min\n",
            "model score: 0.529\n",
            "Best Params:{'regressor__loss': 'linear'}\n",
            "Best Score:0.503\n",
            "[Pipeline] ...... (step 1 of 2) Processing preprocessor, total=   1.0s\n",
            "[Pipeline] ......... (step 2 of 2) Processing regressor, total=  49.0s\n",
            "X_train.shape:\t(32097, 16)\n",
            "X_test.shape:\t(15810, 16)\n",
            "MAE = \t100856.5152\n"
          ],
          "name": "stdout"
        },
        {
          "output_type": "execute_result",
          "data": {
            "text/plain": [
              "Pipeline(memory=None,\n",
              "         steps=[('preprocessor',\n",
              "                 ColumnTransformer(n_jobs=None, remainder='drop',\n",
              "                                   sparse_threshold=0.3,\n",
              "                                   transformer_weights=None,\n",
              "                                   transformers=[('num',\n",
              "                                                  Pipeline(memory=None,\n",
              "                                                           steps=[('imputer',\n",
              "                                                                   SimpleImputer(add_indicator=False,\n",
              "                                                                                 copy=True,\n",
              "                                                                                 fill_value=None,\n",
              "                                                                                 missing_values=nan,\n",
              "                                                                                 strategy='mean',\n",
              "                                                                                 verbose=0)),\n",
              "                                                                  ('scaler',\n",
              "                                                                   StandardScaler(copy=True,\n",
              "                                                                                  with_mean=T...\n",
              "                                                                            min_impurity_decrease=0.0,\n",
              "                                                                            min_impurity_split=None,\n",
              "                                                                            min_samples_leaf=1,\n",
              "                                                                            min_samples_split=2,\n",
              "                                                                            min_weight_fraction_leaf=0.0,\n",
              "                                                                            n_estimators=100,\n",
              "                                                                            n_iter_no_change=None,\n",
              "                                                                            presort='deprecated',\n",
              "                                                                            random_state=None,\n",
              "                                                                            subsample=1.0,\n",
              "                                                                            tol=0.0001,\n",
              "                                                                            validation_fraction=0.1,\n",
              "                                                                            verbose=0,\n",
              "                                                                            warm_start=False),\n",
              "                                   learning_rate=1.0, loss='linear',\n",
              "                                   n_estimators=50, random_state=None))],\n",
              "         verbose=True)"
            ]
          },
          "metadata": {
            "tags": []
          },
          "execution_count": 108
        }
      ]
    },
    {
      "cell_type": "markdown",
      "metadata": {
        "id": "CKQecZI2IQwg"
      },
      "source": [
        "### MLP\n"
      ]
    },
    {
      "cell_type": "code",
      "metadata": {
        "id": "vvVliwIxfZBw",
        "outputId": "79029094-1ecb-44c6-9d45-14389eff9bf1",
        "colab": {
          "base_uri": "https://localhost:8080/",
          "height": 309
        }
      },
      "source": [
        "%%time\n",
        "from sklearn.neural_network import MLPRegressor\n",
        "\n",
        "regressor = MLPRegressor()\n",
        "params = {'regressor__activation':['identity','logistic', 'tanh', 'relu']}\n",
        "train_model(results, regressor, params)"
      ],
      "execution_count": null,
      "outputs": [
        {
          "output_type": "stream",
          "text": [
            "/usr/local/lib/python3.6/dist-packages/sklearn/model_selection/_search.py:823: FutureWarning: The parameter 'iid' is deprecated in 0.22 and will be removed in 0.24.\n",
            "  \"removed in 0.24.\", FutureWarning\n",
            "/usr/local/lib/python3.6/dist-packages/sklearn/neural_network/_multilayer_perceptron.py:571: ConvergenceWarning: Stochastic Optimizer: Maximum iterations (200) reached and the optimization hasn't converged yet.\n",
            "  % self.max_iter, ConvergenceWarning)\n"
          ],
          "name": "stderr"
        },
        {
          "output_type": "stream",
          "text": [
            "[Pipeline] ......... (step 1 of 1) Processing regressor, total=   8.3s\n",
            "model score: -4.65\n",
            "Best Params:{'regressor__activation': 'tanh'}\n",
            "Best Score:-4.7\n"
          ],
          "name": "stdout"
        },
        {
          "output_type": "stream",
          "text": [
            "/usr/local/lib/python3.6/dist-packages/sklearn/model_selection/_search.py:823: FutureWarning: The parameter 'iid' is deprecated in 0.22 and will be removed in 0.24.\n",
            "  \"removed in 0.24.\", FutureWarning\n"
          ],
          "name": "stderr"
        },
        {
          "output_type": "stream",
          "text": [
            "[Pipeline] ......... (step 1 of 1) Processing regressor, total=   0.8s\n",
            "X_train.shape:\t(5925, 16)\n",
            "X_test.shape:\t(2919, 16)\n",
            "MAE = \t406911.7737\n",
            "CPU times: user 14.6 s, sys: 22.2 s, total: 36.8 s\n",
            "Wall time: 36.6 s\n"
          ],
          "name": "stdout"
        }
      ]
    },
    {
      "cell_type": "markdown",
      "metadata": {
        "id": "NPrVX6JfIaI3"
      },
      "source": [
        "## Results"
      ]
    },
    {
      "cell_type": "markdown",
      "metadata": {
        "id": "J3LGNuB6JJQ2"
      },
      "source": [
        "| Regressor | With GridSearch  | Training Shape | MAE\n",
        "|--------------------|---|-----------|------------|\n",
        "|   KNN              | N |(32097, 16)| 102588.9181|\n",
        "|   KNN              | Y |(32097, 16)| 102588.9181|\n",
        "|   DTR              | N |(32097, 16)| 122973.528|\n",
        "|   DTR              | Y |(32097, 16)| 122983.1665|\n",
        "|   SVR              | N |(32097, 16)| |\n",
        "|   SVR              | Y |(32097, 16)| |\n",
        "|   GBoostRegressor  | N |(32097, 16)| 99020.46849|\n",
        "|   GBoostRegressor  | Y |(32097, 16)| 99016.70906|\n",
        "|   AdaBoost         | N |(32097, 16)| 100737.6465|\n",
        "|   AdaBoost         | Y |(32097, 16)| 100856.5152|"
      ]
    },
    {
      "cell_type": "code",
      "metadata": {
        "id": "cB8h7Zj4JJ1F"
      },
      "source": [
        "| Regressor          | With GridSearch | Training Shape | MAE        |\n",
        "|--------------------|-----------------|----------------|------------|\n",
        "|   KNN              | N               | (5955, 16)     |109498.6562 |\n",
        "|   KNN              | Y               | (5955, 16)     |109498.6562 |\n",
        "|   DTR              | N               | (5955, 16)     |            |\n",
        "|   DTR              | Y               | (5955, 16)     |            |\n",
        "|   SVR              | N               | (5955, 16)     |            |\n",
        "|   SVR              | Y               | (5955, 16)     |            |\n",
        "|   GBoostRegressor  | N               | (5955, 16)     |98715.63049 |\n",
        "|   GBoostRegressor  | Y               | (5955, 16)     |98730.64647 |\n",
        "|   AdaBoost         | N               | (5955, 16)     |            |\n",
        "|   AdaBoost         | Y               | (5955, 16)     |            |"
      ],
      "execution_count": null,
      "outputs": []
    }
  ]
}